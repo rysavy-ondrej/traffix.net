{
  "cells": [
    {
      "cell_type": "code",
      "execution_count": 1,
      "metadata": {
        "dotnet_interactive": {
          "language": "csharp"
        }
      },
      "source": [
        "\n",
        "DateTime? x = DateTime.Now;\n",
        "DateTime? y = DateTime.MaxValue;\n",
        "\n",
        "\n",
        "DateTime? Min(DateTime? x, DateTime? y)\n",
        "{\n",
        "    if (x == null) return y;\n",
        "    if (y == null) return x;\n",
        "    return x < y ? x : y;\n",
        "}\n",
        "\n",
        "display(Min(x,y));"
      ],
      "outputs": [
        {
          "output_type": "execute_result",
          "data": {
            "text/html": "<span>2021-03-19 11:31:46Z</span>"
          },
          "execution_count": 1,
          "metadata": {}
        }
      ]
    }
  ],
  "metadata": {
    "kernelspec": {
      "display_name": ".NET (C#)",
      "language": "C#",
      "name": ".net-csharp"
    },
    "language_info": {
      "file_extension": ".cs",
      "mimetype": "text/x-csharp",
      "name": "C#",
      "pygments_lexer": "csharp",
      "version": "8.0"
    }
  },
  "nbformat": 4,
  "nbformat_minor": 4
}