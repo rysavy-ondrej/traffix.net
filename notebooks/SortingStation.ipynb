{
  "cells": [
    {
      "cell_type": "markdown",
      "metadata": {},
      "source": [
        "# Initialize the environment\n",
        "\n",
        "* Loaded necessary system-wide packages"
      ]
    },
    {
      "cell_type": "code",
      "execution_count": 1,
      "metadata": {
        "dotnet_interactive": {
          "language": "csharp"
        }
      },
      "source": [
        "// basic docs for C# interactive is at: https://github.com/dotnet/interactive/tree/main/docs \n",
        "// Use XPlot for visualization, see doc at: https://fslab.org/XPlot/\n",
        "// For several examples of data analysis methods see: https://xamlbrewer.wordpress.com/category/ml-net/\n",
        "#r \"nuget:XPlot.Plotly\"\n",
        "#r \"nuget:Microsoft.ML\"\n",
        "#r \"nuget:Microsoft.Data.Analysis,0.4.0\"\n",
        "#r \"nuget:Microsoft.DotNet.Interactive.ExtensionLab,*-*\"\n",
        "using System;\n",
        "using System.Threading;\n",
        "using Microsoft.ML;\n",
        "using Microsoft.ML.Data;\n",
        "using Microsoft.Data;\n",
        "using Microsoft.Data.Analysis; \n",
        "using XPlot.Plotly;"
      ],
      "outputs": []
    },
    {
      "cell_type": "markdown",
      "metadata": {},
      "source": [
        "Load IcsMonitor and process the input file. "
      ]
    },
    {
      "cell_type": "code",
      "execution_count": 1,
      "metadata": {
        "dotnet_interactive": {
          "language": "csharp"
        }
      },
      "source": [
        "#r \"C:\\GitHub\\traffix.net\\samples\\IcsMonitor\\bin\\Debug\\netcoreapp3.1\\IcsMonitor.dll\"\n",
        "using IcsMonitor;\n",
        "var ctx = new Interactive();\n",
        "\n",
        "var reader = ctx.CreateCaptureFileReader(@\"G:\\Shared drives\\BONNET\\AD Metody\\Modbus\\ModbusFactory\\Sorting Station\\Net-SortingStation_Basic_Normal.cap\");\n",
        "var frames  = ctx.GetNextFrames(reader).ToList();\n",
        "var firstFrame = frames.First();\n",
        "var timeBaseTicks = firstFrame.Ticks;\n",
        "Console.WriteLine($\"Frames={frames.Count}\");\n",
        "\n",
        "var tables = ctx.PopulateConversationTables(frames, @\"c:\\temp\\sortingstation_basic_normal.fc\\\", TimeSpan.FromMinutes(1), CancellationToken.None).ToList();\n",
        "Console.WriteLine($\"Tables={tables.Count}\");\n",
        "\n",
        "var processor = new IcsMonitor.Modbus.ModbusBiflowProcessor();\n",
        "var conversations = tables.SelectMany(x=> ctx.GetConversations(x,processor)).ToList();\n",
        "Console.WriteLine($\"Conversations={conversations.Count}\");\n",
        "\n",
        "reader.Close();\n",
        "var dataFrame = conversations.ToDataFrame();\n",
        "#!linqify dataFrame"
      ],
      "outputs": [
        {
          "output_type": "execute_result",
          "data": {
            "text/plain": "Frames=1023844\r\n"
          },
          "execution_count": 1,
          "metadata": {}
        },
        {
          "output_type": "execute_result",
          "data": {
            "text/plain": "Tables=30\r\n"
          },
          "execution_count": 1,
          "metadata": {}
        },
        {
          "output_type": "execute_result",
          "data": {
            "text/plain": "Conversations=30\r\n"
          },
          "execution_count": 1,
          "metadata": {}
        }
      ]
    },
    {
      "cell_type": "markdown",
      "metadata": {},
      "source": [
        "## Ratio of operations in the flow\n",
        "The following graph shows the ratio of different operations within the flow. The ratio is computed as the number of the corresponding operations to the total number of packets in the flow.  "
      ]
    },
    {
      "cell_type": "code",
      "execution_count": 1,
      "metadata": {
        "dotnet_interactive": {
          "language": "csharp"
        }
      },
      "source": [
        "var writeSingleCoilRequests = conversations.Select(x=>(packets:x.ForwardMetrics.Packets, value: (float)x.Data.WriteSingleCoilRequests/x.ForwardMetrics.Packets));\n",
        "var readDiscreteInputsRequests = conversations.Select(x=>(packets:x.ForwardMetrics.Packets, value: (float)x.Data.ReadDiscreteInputsRequests/x.ForwardMetrics.Packets));\n",
        "\n",
        "var plot = Chart.Plot(new []{ \n",
        "    new Graph.Scatter { x = writeSingleCoilRequests.Select(x=>x.packets), y = writeSingleCoilRequests.Select(x=>x.value), mode = \"markers\", name=\"WriteSingleCoilRequests\" },\n",
        "    new Graph.Scatter { x = readDiscreteInputsRequests.Select(x=>x.packets), y = readDiscreteInputsRequests.Select(x=>x.value), mode = \"markers\", name=\"ReadDiscreteInputsRequests\" }\n",
        "});\n",
        "plot.WithXTitle(\"Packets\");\n",
        "plot.WithYTitle(\"Operation\");\n",
        "plot.WithTitle(\"Operations Ratio Graph\");\n",
        "plot"
      ],
      "outputs": [
        {
          "output_type": "execute_result",
          "data": {
            "text/html": "<div id=\"ea413cad-e84a-4d8c-9534-fe58331d7d11\" style=\"width: 900px; height: 500px;\"></div>\r\n<script type=\"text/javascript\">\r\n\r\nvar renderPlotly = function() {\r\n    var xplotRequire = require.config({context:'xplot-3.0.1',paths:{plotly:'https://cdn.plot.ly/plotly-1.49.2.min'}}) || require;\r\n    xplotRequire(['plotly'], function(Plotly) {\r\n\n            var data = [{\"type\":\"scatter\",\"x\":[23002,23649,23450,23574,23609,22735,22041,21981,22029,21910,22150,22309,22439,22491,22511,22526,22501,22547,22847,22738,22615,22758,22723,22588,22661,22896,23334,23523,23470,22956],\"y\":[0.40144336,0.40331516,0.40255862,0.4029015,0.40293956,0.40303496,0.40284017,0.40271142,0.40256026,0.40269282,0.40225732,0.40225917,0.40233523,0.40229425,0.40220338,0.40246826,0.40273765,0.40240386,0.40320393,0.4029378,0.40247622,0.40280342,0.40280774,0.40247035,0.40240943,0.40338925,0.40271705,0.40339243,0.40234342,0.40272695],\"mode\":\"markers\",\"name\":\"WriteSingleCoilRequests\"},{\"type\":\"scatter\",\"x\":[23002,23649,23450,23574,23609,22735,22041,21981,22029,21910,22150,22309,22439,22491,22511,22526,22501,22547,22847,22738,22615,22758,22723,22588,22661,22896,23334,23523,23470,22956],\"y\":[0.04882184,0.047909003,0.048272923,0.048146263,0.048074886,0.04803167,0.04809219,0.048177972,0.04820918,0.04819717,0.048352145,0.048410956,0.04830875,0.048374906,0.048376348,0.04829974,0.048175637,0.048299108,0.047927517,0.04806931,0.048286535,0.048114948,0.048145052,0.048344254,0.048276775,0.047868624,0.048170052,0.047868043,0.048359606,0.048222687],\"mode\":\"markers\",\"name\":\"ReadDiscreteInputsRequests\"}];\n            var layout = {\"title\":\"Operations Ratio Graph\",\"xaxis\":{\"title\":\"Packets\",\"_isSubplotObj\":true},\"yaxis\":{\"title\":\"Operation\",\"_isSubplotObj\":true}};\n            Plotly.newPlot('ea413cad-e84a-4d8c-9534-fe58331d7d11', data, layout);\n        \r\n});\r\n};\r\n// ensure `require` is available globally\r\nif ((typeof(require) !==  typeof(Function)) || (typeof(require.config) !== typeof(Function))) {\r\n    let require_script = document.createElement('script');\r\n    require_script.setAttribute('src', 'https://cdnjs.cloudflare.com/ajax/libs/require.js/2.3.6/require.min.js');\r\n    require_script.setAttribute('type', 'text/javascript');\r\n    \r\n    \r\n    require_script.onload = function() {\r\n        renderPlotly();\r\n    };\r\n\r\n    document.getElementsByTagName('head')[0].appendChild(require_script);\r\n}\r\nelse {\r\n    renderPlotly();\r\n}\r\n\r\n</script>\r\n"
          },
          "execution_count": 1,
          "metadata": {}
        }
      ]
    },
    {
      "cell_type": "markdown",
      "metadata": {},
      "source": [
        "# Basic Packet-level Stats\n",
        "This section shows various basic statistics of the capture. "
      ]
    },
    {
      "cell_type": "code",
      "execution_count": 1,
      "metadata": {
        "dotnet_interactive": {
          "language": "csharp"
        }
      },
      "source": [
        "using Traffix.Providers.PcapFile;\n",
        "using Traffix.Extensions.Decoders.Industrial;\n",
        "var packets = frames.Select(x=> (Time: new TimeSpan(x.Ticks - timeBaseTicks).TotalSeconds, Packet: x.GetTcpPacket())).Where(x=>x.Packet is not null && x.Packet.PayloadData?.Length > 0).ToList();\n",
        "\n",
        "var requests = packets.Where(x=>x.Packet.DestinationPort == 502);\n",
        "var responses = packets.Where(x=>x.Packet.SourcePort == 502);\n",
        "\n",
        "var modbusRequests = requests.Select(x=> (x.Time, Modbus: x.Packet.DecodeOrDefault(stream => new ModbusRequestPacket(stream)))).Where(x=>x.Modbus is not null);\n",
        "var modbusFunctions = modbusRequests.Select(m =>  (Time: m.Time, Code: m.Modbus.Function.ToString()));"
      ],
      "outputs": []
    },
    {
      "cell_type": "markdown",
      "metadata": {},
      "source": [
        "## Function count\n",
        "The following plot provides information on the total number of individual function codes in the capture. "
      ]
    },
    {
      "cell_type": "code",
      "execution_count": 1,
      "metadata": {
        "dotnet_interactive": {
          "language": "csharp"
        }
      },
      "source": [
        "var modbusGroupByFunctions = modbusFunctions.GroupBy(x=> x.Code);\n",
        "var plot = Chart.Plot( new []{ \n",
        "        new Graph.Bar { x = modbusGroupByFunctions.Select(x=>x.Key), y = modbusGroupByFunctions.Select(x=>x.Count()), name=\"functions\" }\n",
        "    });\n",
        "plot.WithXTitle(\"Fuctions\");\n",
        "plot.WithYTitle(\"Count\");\n",
        "plot.WithTitle(\"Functions Count\");\n",
        "\n",
        "plot"
      ],
      "outputs": [
        {
          "output_type": "execute_result",
          "data": {
            "text/html": "<div id=\"1cf04335-6293-453b-93a5-ec9b9777209d\" style=\"width: 900px; height: 500px;\"></div>\r\n<script type=\"text/javascript\">\r\n\r\nvar renderPlotly = function() {\r\n    var xplotRequire = require.config({context:'xplot-3.0.1',paths:{plotly:'https://cdn.plot.ly/plotly-1.49.2.min'}}) || require;\r\n    xplotRequire(['plotly'], function(Plotly) {\r\n\n            var data = [{\"type\":\"bar\",\"x\":[\"WriteSingleCoil\",\"ReadInputStatus\",\"ReadInputRegisters\"],\"y\":[274839,32903,33539],\"name\":\"functions\"}];\n            var layout = {\"title\":\"Functions Count\",\"xaxis\":{\"title\":\"Fuctions\",\"_isSubplotObj\":true},\"yaxis\":{\"title\":\"Count\",\"_isSubplotObj\":true}};\n            Plotly.newPlot('1cf04335-6293-453b-93a5-ec9b9777209d', data, layout);\n        \r\n});\r\n};\r\n// ensure `require` is available globally\r\nif ((typeof(require) !==  typeof(Function)) || (typeof(require.config) !== typeof(Function))) {\r\n    let require_script = document.createElement('script');\r\n    require_script.setAttribute('src', 'https://cdnjs.cloudflare.com/ajax/libs/require.js/2.3.6/require.min.js');\r\n    require_script.setAttribute('type', 'text/javascript');\r\n    \r\n    \r\n    require_script.onload = function() {\r\n        renderPlotly();\r\n    };\r\n\r\n    document.getElementsByTagName('head')[0].appendChild(require_script);\r\n}\r\nelse {\r\n    renderPlotly();\r\n}\r\n\r\n</script>\r\n"
          },
          "execution_count": 1,
          "metadata": {}
        }
      ]
    },
    {
      "cell_type": "markdown",
      "metadata": {},
      "source": [
        "# Timeline\n",
        "\n",
        "The present section visualizes the traffic in terms of various timelines. "
      ]
    },
    {
      "cell_type": "markdown",
      "metadata": {},
      "source": [
        "## Message timeline\n",
        "The basic form of timeline shows a number of non-empty TCP packets in both directions. Although the communication follows the regular pattern the timeline communication diagram shows the small variance in the number of packets as caused by system and network load. "
      ]
    },
    {
      "cell_type": "code",
      "execution_count": 1,
      "metadata": {
        "dotnet_interactive": {
          "language": "csharp"
        }
      },
      "source": [
        "var requestsAggregation = requests.GroupBy(x=> (int)(x.Time/10));\n",
        "var responsesAggregation = responses.GroupBy(x=> (int)(x.Time/10));\n",
        "var plot = Chart.Plot( new []{ \n",
        "    new Graph.Scatter { x = requestsAggregation.Select(x=>x.Key), y = requestsAggregation.Select(x=>x.Count()), mode = \"line\", name=\"requests\" },\n",
        "    new Graph.Scatter { x = responsesAggregation.Select(x=>x.Key), y = responsesAggregation.Select(x=>x.Count()), mode = \"line\", name=\"responses\" }\n",
        "});\n",
        "plot.WithXTitle(\"Time\");\n",
        "plot.WithTitle(\"Message Timeline\");\n",
        "plot.Width = 1000;\n",
        "plot.Height = 300;\n",
        "\n",
        "plot"
      ],
      "outputs": [
        {
          "output_type": "execute_result",
          "data": {
            "text/html": "<div id=\"edc9d3b8-1eaa-4a43-80c0-94b1076cdaeb\" style=\"width: 1000px; height: 300px;\"></div>\r\n<script type=\"text/javascript\">\r\n\r\nvar renderPlotly = function() {\r\n    var xplotRequire = require.config({context:'xplot-3.0.1',paths:{plotly:'https://cdn.plot.ly/plotly-1.49.2.min'}}) || require;\r\n    xplotRequire(['plotly'], function(Plotly) {\r\n\n            var data = [{\"type\":\"scatter\",\"x\":[0,1,2,3,4,5,6,7,8,9,10,11,12,13,14,15,16,17,18,19,20,21,22,23,24,25,26,27,28,29,30,31,32,33,34,35,36,37,38,39,40,41,42,43,44,45,46,47,48,49,50,51,52,53,54,55,56,57,58,59,60,61,62,63,64,65,66,67,68,69,70,71,72,73,74,75,76,77,78,79,80,81,82,83,84,85,86,87,88,89,90,91,92,93,94,95,96,97,98,99,100,101,102,103,104,105,106,107,108,109,110,111,112,113,114,115,116,117,118,119,120,121,122,123,124,125,126,127,128,129,130,131,132,133,134,135,136,137,138,139,140,141,142,143,144,145,146,147,148,149,150,151,152,153,154,155,156,157,158,159,160,161,162,163,164,165,166,167,168,169,170,171,172,173,174,175,176,177,178,179],\"y\":[1778,1899,1950,1902,2008,1963,1992,1966,1967,2004,1949,1947,1964,1946,1910,2002,1947,1956,2017,1962,1914,1915,2013,1966,1982,2007,1963,1950,1909,1993,1951,1916,1833,1930,1868,1870,1859,1835,1826,1830,1839,1831,1796,1821,1865,1852,1839,1818,1838,1882,1780,1836,1885,1793,1811,1832,1875,1804,1786,1847,1815,1869,1826,1863,1852,1850,1853,1916,1816,1869,1815,1886,1821,1924,1879,1878,1844,1873,1933,1860,1885,1881,1871,1816,1865,1895,1886,1878,1892,1839,1880,1863,1887,1865,1915,1853,1859,1824,1909,1861,1918,1880,1882,1896,1862,1894,1869,1870,1950,1886,1885,1880,1889,1934,1875,1822,1900,1940,1895,1937,1910,1879,1884,1860,1863,1911,1882,1904,1907,1919,1899,1868,1886,1913,1908,1831,1921,1903,1891,1919,1901,1829,1873,1881,1897,1887,1899,1880,1878,1889,1938,1858,1941,1894,1905,1912,1968,1856,1970,1953,1956,1964,1959,1978,1917,1991,1906,2011,1954,1954,1963,2000,1949,1915,1946,1951,1956,1952,1995,1678],\"mode\":\"line\",\"name\":\"requests\"},{\"type\":\"scatter\",\"x\":[0,1,2,3,4,5,6,7,8,9,10,11,12,13,14,15,16,17,18,19,20,21,22,23,24,25,26,27,28,29,30,31,32,33,34,35,36,37,38,39,40,41,42,43,44,45,46,47,48,49,50,51,52,53,54,55,56,57,58,59,60,61,62,63,64,65,66,67,68,69,70,71,72,73,74,75,76,77,78,79,80,81,82,83,84,85,86,87,88,89,90,91,92,93,94,95,96,97,98,99,100,101,102,103,104,105,106,107,108,109,110,111,112,113,114,115,116,117,118,119,120,121,122,123,124,125,126,127,128,129,130,131,132,133,134,135,136,137,138,139,140,141,142,143,144,145,146,147,148,149,150,151,152,153,154,155,156,157,158,159,160,161,162,163,164,165,166,167,168,169,170,171,172,173,174,175,176,177,178,179],\"y\":[1778,1899,1949,1903,2008,1963,1992,1965,1968,2003,1950,1946,1965,1946,1909,2003,1947,1955,2018,1962,1914,1915,2013,1965,1983,2007,1962,1951,1909,1993,1950,1917,1832,1931,1867,1870,1859,1836,1826,1830,1839,1831,1795,1822,1865,1851,1840,1818,1838,1882,1780,1836,1884,1794,1811,1831,1876,1804,1785,1848,1814,1870,1826,1863,1852,1850,1853,1916,1816,1869,1815,1886,1821,1924,1879,1878,1844,1873,1933,1860,1885,1881,1870,1816,1866,1894,1887,1878,1892,1839,1880,1863,1887,1865,1914,1854,1859,1824,1908,1862,1918,1880,1881,1897,1862,1894,1869,1870,1950,1886,1885,1880,1888,1935,1874,1823,1900,1939,1896,1936,1911,1878,1885,1860,1863,1911,1882,1904,1906,1920,1899,1868,1885,1914,1907,1831,1922,1902,1892,1919,1900,1830,1873,1881,1897,1887,1899,1880,1878,1889,1938,1858,1941,1894,1905,1912,1968,1856,1970,1953,1956,1964,1959,1978,1917,1991,1906,2010,1955,1953,1963,2001,1949,1915,1945,1951,1957,1952,1995,1677],\"mode\":\"line\",\"name\":\"responses\"}];\n            var layout = {\"title\":\"Message Timeline\",\"xaxis\":{\"title\":\"Time\",\"_isSubplotObj\":true}};\n            Plotly.newPlot('edc9d3b8-1eaa-4a43-80c0-94b1076cdaeb', data, layout);\n        \r\n});\r\n};\r\n// ensure `require` is available globally\r\nif ((typeof(require) !==  typeof(Function)) || (typeof(require.config) !== typeof(Function))) {\r\n    let require_script = document.createElement('script');\r\n    require_script.setAttribute('src', 'https://cdnjs.cloudflare.com/ajax/libs/require.js/2.3.6/require.min.js');\r\n    require_script.setAttribute('type', 'text/javascript');\r\n    \r\n    \r\n    require_script.onload = function() {\r\n        renderPlotly();\r\n    };\r\n\r\n    document.getElementsByTagName('head')[0].appendChild(require_script);\r\n}\r\nelse {\r\n    renderPlotly();\r\n}\r\n\r\n</script>\r\n"
          },
          "execution_count": 1,
          "metadata": {}
        }
      ]
    },
    {
      "cell_type": "markdown",
      "metadata": {},
      "source": [
        "## Function code timeline\n",
        "In order to see the pattern of the system, the MODBUS function requests are extracted from packets and shown in the next graph. Four MODBUS functions are observed:\n",
        "\n",
        "* ReadHoldingRegister\n",
        "* ReadInputStatus\n",
        "* WriteSingleRegister\n",
        "* WriteSIngleCoil"
      ]
    },
    {
      "cell_type": "code",
      "execution_count": 1,
      "metadata": {
        "dotnet_interactive": {
          "language": "csharp"
        }
      },
      "source": [
        "var functionsPrefix = modbusFunctions.TakeWhile(x=>x.Time<1);\n",
        "\n",
        "var g = new Graph.Scatter { x = functionsPrefix.Select(x=>x.Time), y = functionsPrefix.Select(x=>x.Code), mode = \"markers\", name=\"function sequence\" };\n",
        "var plot = Chart.Plot( new []{ g });\n",
        "plot.WithXTitle(\"Time\");\n",
        "plot.WithTitle(\"Function Timeline\");\n",
        "plot.Width = 1000;\n",
        "plot.Height = 300;\n",
        "\n",
        "plot"
      ],
      "outputs": [
        {
          "output_type": "execute_result",
          "data": {
            "text/html": "<div id=\"e05b1263-e5d3-4049-bf06-0b5691aff67f\" style=\"width: 1000px; height: 300px;\"></div>\r\n<script type=\"text/javascript\">\r\n\r\nvar renderPlotly = function() {\r\n    var xplotRequire = require.config({context:'xplot-3.0.1',paths:{plotly:'https://cdn.plot.ly/plotly-1.49.2.min'}}) || require;\r\n    xplotRequire(['plotly'], function(Plotly) {\r\n\n            var data = [{\"type\":\"scatter\",\"x\":[0.016183,0.018963,0.020672,0.023547,0.027242,0.030352,0.033039,0.035687,0.038003,0.042534,0.045746,0.049742,0.051833,0.053773,0.055914,0.058202,0.060331,0.061905,0.095887,0.099009,0.100878,0.102516,0.108331,0.10985,0.114629,0.121208,0.122722,0.155616,0.169442,0.175749,0.178314,0.179709,0.184744,0.186521,0.188247,0.189676,0.198166,0.202057,0.203466,0.205438,0.207987,0.209088,0.211693,0.214843,0.217718,0.252544,0.254008,0.257287,0.258594,0.26064,0.263823,0.265849,0.266742,0.268585,0.311682,0.325715,0.329602,0.332138,0.333651,0.335212,0.337288,0.339457,0.341087,0.358011,0.360183,0.361724,0.364633,0.371063,0.372408,0.375356,0.382093,0.386869,0.420844,0.430782,0.438003,0.440592,0.441529,0.443369,0.44457,0.447266,0.448936,0.46253,0.465015,0.467264,0.468443,0.470188,0.472571,0.474678,0.47672,0.478663,0.514599,0.517201,0.519051,0.52129,0.523388,0.525131,0.527244,0.529197,0.532034,0.576194,0.585236,0.592549,0.594892,0.597252,0.598804,0.600827,0.604122,0.606129,0.617957,0.621526,0.626567,0.628056,0.629876,0.63682,0.650044,0.653772,0.658926,0.669717,0.671561,0.673752,0.675512,0.676812,0.678439,0.680652,0.683387,0.685665,0.722521,0.724123,0.726174,0.728019,0.730215,0.73317,0.736241,0.738181,0.740018,0.774912,0.776349,0.778195,0.780552,0.782705,0.785486,0.787973,0.790093,0.792181,0.827699,0.830644,0.832387,0.834835,0.837263,0.839161,0.841142,0.843136,0.845883,0.87883,0.880148,0.882651,0.886136,0.88892,0.890743,0.891868,0.894075,0.895811,0.950579,0.959454,0.96216,0.963951,0.966328,0.969384,0.970984,0.97248,0.97524,0.991291,0.992318,0.994331,0.996452,0.998331],\"y\":[\"WriteSingleCoil\",\"WriteSingleCoil\",\"WriteSingleCoil\",\"WriteSingleCoil\",\"WriteSingleCoil\",\"WriteSingleCoil\",\"WriteSingleCoil\",\"WriteSingleCoil\",\"WriteSingleCoil\",\"ReadInputStatus\",\"ReadInputRegisters\",\"WriteSingleCoil\",\"WriteSingleCoil\",\"WriteSingleCoil\",\"WriteSingleCoil\",\"WriteSingleCoil\",\"WriteSingleCoil\",\"WriteSingleCoil\",\"ReadInputStatus\",\"ReadInputRegisters\",\"WriteSingleCoil\",\"WriteSingleCoil\",\"WriteSingleCoil\",\"WriteSingleCoil\",\"WriteSingleCoil\",\"WriteSingleCoil\",\"WriteSingleCoil\",\"ReadInputStatus\",\"ReadInputRegisters\",\"WriteSingleCoil\",\"WriteSingleCoil\",\"WriteSingleCoil\",\"WriteSingleCoil\",\"WriteSingleCoil\",\"WriteSingleCoil\",\"WriteSingleCoil\",\"ReadInputStatus\",\"ReadInputRegisters\",\"WriteSingleCoil\",\"WriteSingleCoil\",\"WriteSingleCoil\",\"WriteSingleCoil\",\"WriteSingleCoil\",\"WriteSingleCoil\",\"WriteSingleCoil\",\"ReadInputStatus\",\"ReadInputRegisters\",\"WriteSingleCoil\",\"WriteSingleCoil\",\"WriteSingleCoil\",\"WriteSingleCoil\",\"WriteSingleCoil\",\"WriteSingleCoil\",\"WriteSingleCoil\",\"ReadInputStatus\",\"ReadInputRegisters\",\"WriteSingleCoil\",\"WriteSingleCoil\",\"WriteSingleCoil\",\"WriteSingleCoil\",\"WriteSingleCoil\",\"WriteSingleCoil\",\"WriteSingleCoil\",\"ReadInputStatus\",\"ReadInputRegisters\",\"WriteSingleCoil\",\"WriteSingleCoil\",\"WriteSingleCoil\",\"WriteSingleCoil\",\"WriteSingleCoil\",\"WriteSingleCoil\",\"WriteSingleCoil\",\"ReadInputStatus\",\"ReadInputRegisters\",\"WriteSingleCoil\",\"WriteSingleCoil\",\"WriteSingleCoil\",\"WriteSingleCoil\",\"WriteSingleCoil\",\"WriteSingleCoil\",\"WriteSingleCoil\",\"ReadInputStatus\",\"ReadInputRegisters\",\"WriteSingleCoil\",\"WriteSingleCoil\",\"WriteSingleCoil\",\"WriteSingleCoil\",\"WriteSingleCoil\",\"WriteSingleCoil\",\"WriteSingleCoil\",\"ReadInputStatus\",\"ReadInputRegisters\",\"WriteSingleCoil\",\"WriteSingleCoil\",\"WriteSingleCoil\",\"WriteSingleCoil\",\"WriteSingleCoil\",\"WriteSingleCoil\",\"WriteSingleCoil\",\"ReadInputStatus\",\"ReadInputRegisters\",\"WriteSingleCoil\",\"WriteSingleCoil\",\"WriteSingleCoil\",\"WriteSingleCoil\",\"WriteSingleCoil\",\"WriteSingleCoil\",\"WriteSingleCoil\",\"ReadInputStatus\",\"ReadInputRegisters\",\"WriteSingleCoil\",\"WriteSingleCoil\",\"WriteSingleCoil\",\"WriteSingleCoil\",\"WriteSingleCoil\",\"WriteSingleCoil\",\"WriteSingleCoil\",\"ReadInputStatus\",\"ReadInputRegisters\",\"WriteSingleCoil\",\"WriteSingleCoil\",\"WriteSingleCoil\",\"WriteSingleCoil\",\"WriteSingleCoil\",\"WriteSingleCoil\",\"WriteSingleCoil\",\"ReadInputStatus\",\"ReadInputRegisters\",\"WriteSingleCoil\",\"WriteSingleCoil\",\"WriteSingleCoil\",\"WriteSingleCoil\",\"WriteSingleCoil\",\"WriteSingleCoil\",\"WriteSingleCoil\",\"ReadInputStatus\",\"ReadInputRegisters\",\"WriteSingleCoil\",\"WriteSingleCoil\",\"WriteSingleCoil\",\"WriteSingleCoil\",\"WriteSingleCoil\",\"WriteSingleCoil\",\"WriteSingleCoil\",\"ReadInputStatus\",\"ReadInputRegisters\",\"WriteSingleCoil\",\"WriteSingleCoil\",\"WriteSingleCoil\",\"WriteSingleCoil\",\"WriteSingleCoil\",\"WriteSingleCoil\",\"WriteSingleCoil\",\"ReadInputStatus\",\"ReadInputRegisters\",\"WriteSingleCoil\",\"WriteSingleCoil\",\"WriteSingleCoil\",\"WriteSingleCoil\",\"WriteSingleCoil\",\"WriteSingleCoil\",\"WriteSingleCoil\",\"ReadInputStatus\",\"ReadInputRegisters\",\"WriteSingleCoil\",\"WriteSingleCoil\",\"WriteSingleCoil\",\"WriteSingleCoil\",\"WriteSingleCoil\",\"WriteSingleCoil\",\"WriteSingleCoil\",\"ReadInputStatus\",\"ReadInputRegisters\",\"WriteSingleCoil\",\"WriteSingleCoil\",\"WriteSingleCoil\"],\"mode\":\"markers\",\"name\":\"function sequence\"}];\n            var layout = {\"title\":\"Function Timeline\",\"xaxis\":{\"title\":\"Time\",\"_isSubplotObj\":true}};\n            Plotly.newPlot('e05b1263-e5d3-4049-bf06-0b5691aff67f', data, layout);\n        \r\n});\r\n};\r\n// ensure `require` is available globally\r\nif ((typeof(require) !==  typeof(Function)) || (typeof(require.config) !== typeof(Function))) {\r\n    let require_script = document.createElement('script');\r\n    require_script.setAttribute('src', 'https://cdnjs.cloudflare.com/ajax/libs/require.js/2.3.6/require.min.js');\r\n    require_script.setAttribute('type', 'text/javascript');\r\n    \r\n    \r\n    require_script.onload = function() {\r\n        renderPlotly();\r\n    };\r\n\r\n    document.getElementsByTagName('head')[0].appendChild(require_script);\r\n}\r\nelse {\r\n    renderPlotly();\r\n}\r\n\r\n</script>\r\n"
          },
          "execution_count": 1,
          "metadata": {}
        }
      ]
    }
  ],
  "metadata": {
    "kernelspec": {
      "display_name": ".NET (C#)",
      "language": "C#",
      "name": ".net-csharp"
    },
    "language_info": {
      "file_extension": ".cs",
      "mimetype": "text/x-csharp",
      "name": "C#",
      "pygments_lexer": "csharp",
      "version": "8.0"
    }
  },
  "nbformat": 4,
  "nbformat_minor": 4
}