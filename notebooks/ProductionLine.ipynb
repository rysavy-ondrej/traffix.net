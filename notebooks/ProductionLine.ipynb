{
  "cells": [
    {
      "cell_type": "markdown",
      "metadata": {},
      "source": [
        "# Initialize the environment\n",
        "\n",
        "* Loaded necessary system-wide packages"
      ]
    },
    {
      "cell_type": "code",
      "execution_count": 1,
      "metadata": {
        "dotnet_interactive": {
          "language": "csharp"
        }
      },
      "source": [
        "// basic docs for C# interactive is at: https://github.com/dotnet/interactive/tree/main/docs \n",
        "// Use XPlot for visualization, see doc at: https://fslab.org/XPlot/\n",
        "// For several examples of data analysis methods see: https://xamlbrewer.wordpress.com/category/ml-net/\n",
        "#r \"nuget:XPlot.Plotly\"\n",
        "#r \"nuget:Microsoft.ML\"\n",
        "#r \"nuget:Microsoft.Data.Analysis,0.4.0\"\n",
        "#r \"nuget:Microsoft.DotNet.Interactive.ExtensionLab,*-*\"\n",
        "using System;\n",
        "using System.Threading;\n",
        "using Microsoft.ML;\n",
        "using Microsoft.ML.Data;\n",
        "using Microsoft.Data;\n",
        "using Microsoft.Data.Analysis; \n",
        "using XPlot.Plotly;\n",
        "\n",
        "\n",
        "var dateRef = DateTime.Parse(\"2020/12/01 12:00:00\");\n",
        "var dateSample = DateTime.Parse(\"2020/12/07 14:11:49\");\n",
        "(dateSample-dateRef).TotalSeconds\n",
        ""
      ],
      "outputs": [
        {
          "output_type": "execute_result",
          "data": {
            "text/html": "<div class=\"dni-plaintext\">526309</div>"
          },
          "execution_count": 1,
          "metadata": {}
        }
      ]
    },
    {
      "cell_type": "markdown",
      "metadata": {},
      "source": [
        "Load IcsMonitor and process the input file. "
      ]
    },
    {
      "cell_type": "code",
      "execution_count": 1,
      "metadata": {
        "dotnet_interactive": {
          "language": "csharp"
        }
      },
      "source": [
        "#r \"C:\\GitHub\\traffix.net\\samples\\IcsMonitor\\bin\\Debug\\netcoreapp3.1\\IcsMonitor.dll\"\n",
        "using IcsMonitor;\n",
        "var ctx = new Interactive();\n",
        "\n",
        "var reader = ctx.CreateCaptureFileReader(@\"G:\\Shared drives\\BONNET\\AD Metody\\Modbus\\ModbusFactory\\Production Line\\Net-ProductionLine_Basic_Normal.cap\");\n",
        "var frames  = ctx.GetNextFrames(reader).ToList();\n",
        "var firstFrame = frames.First();\n",
        "var timeBaseTicks = firstFrame.Ticks;\n",
        "Console.WriteLine($\"Frames={frames.Count}\");\n",
        "\n",
        "var tables = ctx.PopulateConversationTables(frames, @\"c:\\temp\\productionline_basic_normal.fc\\\", TimeSpan.FromMinutes(1), CancellationToken.None).ToList();\n",
        "Console.WriteLine($\"Tables={tables.Count}\");\n",
        "\n",
        "var processor = new IcsMonitor.Modbus.ModbusBiflowProcessor();\n",
        "var conversations = tables.SelectMany(x=> ctx.GetConversations(x,processor)).ToList();\n",
        "Console.WriteLine($\"Conversations={conversations.Count}\");\n",
        "\n",
        "reader.Close();\n",
        "var dataFrame = conversations.ToDataFrame();\n",
        "#!linqify dataFrame\n",
        ""
      ],
      "outputs": [
        {
          "output_type": "execute_result",
          "data": {
            "text/plain": "Frames=600886\r\n"
          },
          "execution_count": 1,
          "metadata": {}
        },
        {
          "output_type": "execute_result",
          "data": {
            "text/plain": "Tables=30\r\n"
          },
          "execution_count": 1,
          "metadata": {}
        },
        {
          "output_type": "execute_result",
          "data": {
            "text/plain": "Conversations=31\r\n"
          },
          "execution_count": 1,
          "metadata": {}
        }
      ]
    },
    {
      "cell_type": "markdown",
      "metadata": {},
      "source": [
        "## Ratio of operations in the flow\n",
        "The following graph shows the ratio of different operations within the flow. The ratio is computed as the number of the corresponding operations to the total number of packets in the flow.  "
      ]
    },
    {
      "cell_type": "code",
      "execution_count": 1,
      "metadata": {
        "dotnet_interactive": {
          "language": "csharp"
        }
      },
      "source": [
        "var writeSingleCoilRequests = conversations.Select(x=>(packets:x.ForwardMetrics.Packets, value: (float)x.Data.WriteSingleCoilRequests/x.ForwardMetrics.Packets));\n",
        "var readDiscreteInputsRequests = conversations.Select(x=>(packets:x.ForwardMetrics.Packets, value: (float)x.Data.ReadDiscreteInputsRequests/x.ForwardMetrics.Packets));\n",
        "\n",
        "var plot = Chart.Plot(new []{ \n",
        "    new Graph.Scatter { x = writeSingleCoilRequests.Select(x=>x.packets), y = writeSingleCoilRequests.Select(x=>x.value), mode = \"markers\", name=\"WriteSingleCoilRequests\" },\n",
        "    new Graph.Scatter { x = readDiscreteInputsRequests.Select(x=>x.packets), y = readDiscreteInputsRequests.Select(x=>x.value), mode = \"markers\", name=\"ReadDiscreteInputsRequests\" }\n",
        "});\n",
        "plot.WithXTitle(\"Packets\");\n",
        "plot.WithYTitle(\"Operation\");\n",
        "plot.WithTitle(\"Operations Ratio Graph\");\n",
        "plot"
      ],
      "outputs": [
        {
          "output_type": "execute_result",
          "data": {
            "text/html": "<div id=\"b531e8a7-fbac-468d-9cb6-9e6a3f6ef971\" style=\"width: 900px; height: 500px;\"></div>\r\n<script type=\"text/javascript\">\r\n\r\nvar renderPlotly = function() {\r\n    var xplotRequire = require.config({context:'xplot-3.0.1',paths:{plotly:'https://cdn.plot.ly/plotly-1.49.2.min'}}) || require;\r\n    xplotRequire(['plotly'], function(Plotly) {\r\n\n            var data = [{\"type\":\"scatter\",\"x\":[4,13804,13941,13857,13844,13847,13091,13031,12994,13113,13114,13046,13114,13166,12996,13389,13945,13831,13856,13860,13600,13091,12994,13243,13098,13132,13214,13163,13161,12927,13124],\"y\":[0.0,0.16205448,0.16182484,0.16295013,0.16281421,0.16328447,0.16201971,0.16253549,0.1629983,0.16182414,0.16287936,0.16280852,0.16287936,0.16132462,0.16235764,0.16341773,0.16149157,0.16311185,0.16281755,0.16262627,0.16191177,0.16201971,0.16361398,0.16182134,0.16307834,0.16296071,0.16179809,0.16272886,0.16184181,0.16399783,0.16138372],\"mode\":\"markers\",\"name\":\"WriteSingleCoilRequests\"},{\"type\":\"scatter\",\"x\":[4,13804,13941,13857,13844,13847,13091,13031,12994,13113,13114,13046,13114,13166,12996,13389,13945,13831,13856,13860,13600,13091,12994,13243,13098,13132,13214,13163,13161,12927,13124],\"y\":[0.5,0.33743843,0.3376372,0.33658078,0.33675238,0.33631834,0.337331,0.33688897,0.33669385,0.33752763,0.3366631,0.33673155,0.3366631,0.33806774,0.33702677,0.33632085,0.33797058,0.33641818,0.33674943,0.33679652,0.33764705,0.33740738,0.3360782,0.3375368,0.33646357,0.3365824,0.33759648,0.3368533,0.33751234,0.33573142,0.3380067],\"mode\":\"markers\",\"name\":\"ReadDiscreteInputsRequests\"}];\n            var layout = {\"title\":\"Operations Ratio Graph\",\"xaxis\":{\"title\":\"Packets\",\"_isSubplotObj\":true},\"yaxis\":{\"title\":\"Operation\",\"_isSubplotObj\":true}};\n            Plotly.newPlot('b531e8a7-fbac-468d-9cb6-9e6a3f6ef971', data, layout);\n        \r\n});\r\n};\r\n// ensure `require` is available globally\r\nif ((typeof(require) !==  typeof(Function)) || (typeof(require.config) !== typeof(Function))) {\r\n    let require_script = document.createElement('script');\r\n    require_script.setAttribute('src', 'https://cdnjs.cloudflare.com/ajax/libs/require.js/2.3.6/require.min.js');\r\n    require_script.setAttribute('type', 'text/javascript');\r\n    \r\n    \r\n    require_script.onload = function() {\r\n        renderPlotly();\r\n    };\r\n\r\n    document.getElementsByTagName('head')[0].appendChild(require_script);\r\n}\r\nelse {\r\n    renderPlotly();\r\n}\r\n\r\n</script>\r\n"
          },
          "execution_count": 1,
          "metadata": {}
        }
      ]
    },
    {
      "cell_type": "markdown",
      "metadata": {},
      "source": [
        "# Basic Packet-level Stats\n",
        "This section shows various basic statistics of the capture. "
      ]
    },
    {
      "cell_type": "code",
      "execution_count": 1,
      "metadata": {
        "dotnet_interactive": {
          "language": "csharp"
        }
      },
      "source": [
        "using Traffix.Providers.PcapFile;\n",
        "using Traffix.Extensions.Decoders.Industrial;\n",
        "var packets = frames.Select(x=> (Time: new TimeSpan(x.Ticks - timeBaseTicks).TotalSeconds, Packet: x.GetTcpPacket())).Where(x=>x.Packet is not null && x.Packet.PayloadData?.Length > 0).ToList();\n",
        "\n",
        "var requests = packets.Where(x=>x.Packet.DestinationPort == 502);\n",
        "var responses = packets.Where(x=>x.Packet.SourcePort == 502);\n",
        "\n",
        "var modbusRequests = requests.Select(x=> (x.Time, Modbus: x.Packet.DecodeOrDefault(stream => new ModbusRequestPacket(stream)))).Where(x=>x.Modbus is not null);\n",
        "var modbusFunctions = modbusRequests.Select(m =>  (Time: m.Time, Code: m.Modbus.Function.ToString()));"
      ],
      "outputs": []
    },
    {
      "cell_type": "markdown",
      "metadata": {},
      "source": [
        "## Function count\n",
        "The following plot provides information on the total number of individual function codes in the capture. "
      ]
    },
    {
      "cell_type": "code",
      "execution_count": 1,
      "metadata": {
        "dotnet_interactive": {
          "language": "csharp"
        }
      },
      "source": [
        "var modbusGroupByFunctions = modbusFunctions.GroupBy(x=> x.Code);\n",
        "var plot = Chart.Plot( new []{ \n",
        "        new Graph.Bar { x = modbusGroupByFunctions.Select(x=>x.Key), y = modbusGroupByFunctions.Select(x=>x.Count()), name=\"functions\" }\n",
        "    });\n",
        "plot.WithXTitle(\"Fuctions\");\n",
        "plot.WithYTitle(\"Count\");\n",
        "plot.WithTitle(\"Functions Count\");\n",
        "\n",
        "plot"
      ],
      "outputs": [
        {
          "output_type": "execute_result",
          "data": {
            "text/html": "<div id=\"6e992bc7-5a59-4dd8-a578-99dd375d15e2\" style=\"width: 900px; height: 500px;\"></div>\r\n<script type=\"text/javascript\">\r\n\r\nvar renderPlotly = function() {\r\n    var xplotRequire = require.config({context:'xplot-3.0.1',paths:{plotly:'https://cdn.plot.ly/plotly-1.49.2.min'}}) || require;\r\n    xplotRequire(['plotly'], function(Plotly) {\r\n\n            var data = [{\"type\":\"bar\",\"x\":[\"ReadInputStatus\",\"WriteSingleCoil\",\"WriteSingleRegister\",\"ReadHoldingRegister\"],\"y\":[135000,65097,100,98],\"name\":\"functions\"}];\n            var layout = {\"title\":\"Functions Count\",\"xaxis\":{\"title\":\"Fuctions\",\"_isSubplotObj\":true},\"yaxis\":{\"title\":\"Count\",\"_isSubplotObj\":true}};\n            Plotly.newPlot('6e992bc7-5a59-4dd8-a578-99dd375d15e2', data, layout);\n        \r\n});\r\n};\r\n// ensure `require` is available globally\r\nif ((typeof(require) !==  typeof(Function)) || (typeof(require.config) !== typeof(Function))) {\r\n    let require_script = document.createElement('script');\r\n    require_script.setAttribute('src', 'https://cdnjs.cloudflare.com/ajax/libs/require.js/2.3.6/require.min.js');\r\n    require_script.setAttribute('type', 'text/javascript');\r\n    \r\n    \r\n    require_script.onload = function() {\r\n        renderPlotly();\r\n    };\r\n\r\n    document.getElementsByTagName('head')[0].appendChild(require_script);\r\n}\r\nelse {\r\n    renderPlotly();\r\n}\r\n\r\n</script>\r\n"
          },
          "execution_count": 1,
          "metadata": {}
        }
      ]
    },
    {
      "cell_type": "markdown",
      "metadata": {},
      "source": [
        "# Timeline\n",
        "\n",
        "The present section visualizes the traffic in terms of various timelines. "
      ]
    },
    {
      "cell_type": "markdown",
      "metadata": {},
      "source": [
        "## Message timeline\n",
        "The basic form of timeline shows a number of non-empty TCP packets in both directions. Although the communication follows the regular pattern the timeline communication diagram shows the small variance in the number of packets as caused by system and network load. "
      ]
    },
    {
      "cell_type": "code",
      "execution_count": 1,
      "metadata": {
        "dotnet_interactive": {
          "language": "csharp"
        }
      },
      "source": [
        "var requestsAggregation = requests.GroupBy(x=> (int)(x.Time/10));\n",
        "var responsesAggregation = responses.GroupBy(x=> (int)(x.Time/10));\n",
        "var plot = Chart.Plot( new []{ \n",
        "    new Graph.Scatter { x = requestsAggregation.Select(x=>x.Key), y = requestsAggregation.Select(x=>x.Count()), mode = \"line\", name=\"requests\" },\n",
        "    new Graph.Scatter { x = responsesAggregation.Select(x=>x.Key), y = responsesAggregation.Select(x=>x.Count()), mode = \"line\", name=\"responses\" }\n",
        "});\n",
        "plot.WithXTitle(\"Time\");\n",
        "plot.WithTitle(\"Message Timeline\");\n",
        "plot.Width = 1000;\n",
        "plot.Height = 300;\n",
        "\n",
        "plot"
      ],
      "outputs": [
        {
          "output_type": "execute_result",
          "data": {
            "text/html": "<div id=\"96e0d8b2-2cc1-4656-85b4-6c5c6a8609dc\" style=\"width: 1000px; height: 300px;\"></div>\r\n<script type=\"text/javascript\">\r\n\r\nvar renderPlotly = function() {\r\n    var xplotRequire = require.config({context:'xplot-3.0.1',paths:{plotly:'https://cdn.plot.ly/plotly-1.49.2.min'}}) || require;\r\n    xplotRequire(['plotly'], function(Plotly) {\r\n\n            var data = [{\"type\":\"scatter\",\"x\":[0,1,2,3,4,5,6,7,8,9,10,11,12,13,14,15,16,17,18,19,20,21,22,23,24,25,26,27,28,29,30,31,32,33,34,35,36,37,38,39,40,41,42,43,44,45,46,47,48,49,50,51,52,53,54,55,56,57,58,59,60,61,62,63,64,65,66,67,68,69,70,71,72,73,74,75,76,77,78,79,80,81,82,83,84,85,86,87,88,89,90,91,92,93,94,95,96,97,98,99,100,101,102,103,104,105,106,107,108,109,110,111,112,113,114,115,116,117,118,119,120,121,122,123,124,125,126,127,128,129,130,131,132,133,134,135,136,137,138,139,140,141,142,143,144,145,146,147,148,149,150,151,152,153,154,155,156,157,158,159,160,161,162,163,164,165,166,167,168,169,170,171,172,173,174,175,176,177,178,179],\"y\":[1150,1134,1126,1213,1147,1133,1128,1232,1128,1126,1174,1183,1127,1128,1189,1173,1128,1183,1132,1170,1122,1187,1171,1140,1180,1126,1177,1131,1177,1133,1113,1113,1068,1056,1096,1099,1049,1066,1145,1065,1064,1127,1104,1056,1056,1168,1063,1050,1076,1141,1062,1056,1114,1107,1070,1084,1128,1101,1068,1106,1121,1068,1078,1093,1103,1060,1111,1068,1127,1088,1095,1068,1122,1121,1062,1067,1113,1098,1055,1088,1108,1062,1062,1123,1097,1061,1069,1206,1129,1133,1151,1206,1125,1125,1186,1180,1127,1150,1186,1135,1134,1183,1183,1128,1153,1158,1178,1128,1187,1126,1187,1149,1152,1129,1176,1183,1134,1120,1102,1085,1066,1117,1107,1057,1061,1138,1068,1064,1062,1164,1073,1066,1101,1132,1075,1072,1174,1067,1062,1096,1133,1069,1068,1121,1121,1066,1116,1078,1115,1070,1126,1079,1115,1109,1067,1111,1066,1128,1068,1126,1121,1073,1067,1115,1121,1068,1062,1147,1069,1056,1075,1132,1066,1066,1158,1080,1067,1068,1174,1015],\"mode\":\"line\",\"name\":\"requests\"},{\"type\":\"scatter\",\"x\":[0,1,2,3,4,5,6,7,8,9,10,11,12,13,14,15,16,17,18,19,20,21,22,23,24,25,26,27,28,29,30,31,32,33,34,35,36,37,38,39,40,41,42,43,44,45,46,47,48,49,50,51,52,53,54,55,56,57,58,59,60,61,62,63,64,65,66,67,68,69,70,71,72,73,74,75,76,77,78,79,80,81,82,83,84,85,86,87,88,89,90,91,92,93,94,95,96,97,98,99,100,101,102,103,104,105,106,107,108,109,110,111,112,113,114,115,116,117,118,119,120,121,122,123,124,125,126,127,128,129,130,131,132,133,134,135,136,137,138,139,140,141,142,143,144,145,146,147,148,149,150,151,152,153,154,155,156,157,158,159,160,161,162,163,164,165,166,167,168,169,170,171,172,173,174,175,176,177,178,179],\"y\":[1150,1134,1125,1213,1147,1134,1128,1232,1127,1127,1174,1182,1128,1128,1189,1173,1128,1183,1132,1170,1122,1187,1171,1140,1180,1125,1177,1132,1177,1132,1114,1113,1067,1056,1097,1099,1049,1065,1146,1065,1064,1127,1104,1056,1056,1168,1062,1051,1076,1141,1062,1056,1114,1107,1070,1084,1128,1101,1068,1106,1121,1068,1078,1093,1103,1060,1111,1068,1127,1088,1095,1068,1122,1121,1062,1067,1113,1098,1055,1088,1108,1062,1062,1123,1097,1060,1070,1206,1129,1133,1151,1206,1125,1125,1186,1180,1127,1149,1187,1135,1134,1183,1183,1128,1153,1158,1178,1128,1186,1126,1188,1149,1152,1129,1176,1183,1134,1120,1101,1086,1065,1118,1107,1057,1061,1138,1068,1064,1062,1164,1072,1067,1100,1133,1075,1072,1174,1067,1062,1095,1134,1069,1068,1121,1120,1067,1116,1077,1116,1070,1126,1079,1115,1109,1067,1111,1066,1128,1068,1126,1121,1072,1068,1115,1121,1068,1062,1147,1068,1057,1074,1133,1065,1067,1158,1080,1066,1068,1175,1014],\"mode\":\"line\",\"name\":\"responses\"}];\n            var layout = {\"title\":\"Message Timeline\",\"xaxis\":{\"title\":\"Time\",\"_isSubplotObj\":true}};\n            Plotly.newPlot('96e0d8b2-2cc1-4656-85b4-6c5c6a8609dc', data, layout);\n        \r\n});\r\n};\r\n// ensure `require` is available globally\r\nif ((typeof(require) !==  typeof(Function)) || (typeof(require.config) !== typeof(Function))) {\r\n    let require_script = document.createElement('script');\r\n    require_script.setAttribute('src', 'https://cdnjs.cloudflare.com/ajax/libs/require.js/2.3.6/require.min.js');\r\n    require_script.setAttribute('type', 'text/javascript');\r\n    \r\n    \r\n    require_script.onload = function() {\r\n        renderPlotly();\r\n    };\r\n\r\n    document.getElementsByTagName('head')[0].appendChild(require_script);\r\n}\r\nelse {\r\n    renderPlotly();\r\n}\r\n\r\n</script>\r\n"
          },
          "execution_count": 1,
          "metadata": {}
        }
      ]
    },
    {
      "cell_type": "markdown",
      "metadata": {},
      "source": [
        "## Function code timeline\n",
        "In order to see the pattern of the system, the MODBUS function requests are extracted from packets and shown in the next graph. Four MODBUS functions are observed:\n",
        "\n",
        "* ReadHoldingRegister\n",
        "* ReadInputStatus\n",
        "* WriteSingleRegister\n",
        "* WriteSIngleCoil\n",
        ""
      ]
    },
    {
      "cell_type": "code",
      "execution_count": 1,
      "metadata": {
        "dotnet_interactive": {
          "language": "csharp"
        }
      },
      "source": [
        "var functionsPrefix = modbusFunctions.TakeWhile(x=>x.Time<1);\n",
        "\n",
        "var g = new Graph.Scatter { x = functionsPrefix.Select(x=>x.Time), y = functionsPrefix.Select(x=>x.Code), mode = \"markers\", name=\"function sequence\" };\n",
        "var plot = Chart.Plot( new []{ g });\n",
        "plot.WithXTitle(\"Time\");\n",
        "plot.WithTitle(\"Function Timeline\");\n",
        "plot.Width = 1000;\n",
        "plot.Height = 300;\n",
        "\n",
        "plot\n",
        ""
      ],
      "outputs": [
        {
          "output_type": "execute_result",
          "data": {
            "text/html": "<div id=\"3bfe1b96-6ac6-4f67-b234-e21fb8771d5a\" style=\"width: 1000px; height: 300px;\"></div>\r\n<script type=\"text/javascript\">\r\n\r\nvar renderPlotly = function() {\r\n    var xplotRequire = require.config({context:'xplot-3.0.1',paths:{plotly:'https://cdn.plot.ly/plotly-1.49.2.min'}}) || require;\r\n    xplotRequire(['plotly'], function(Plotly) {\r\n\n            var data = [{\"type\":\"scatter\",\"x\":[0.0,0.505329,0.53284,0.536071,0.54125,0.54347,0.549355,0.557198,0.561486,0.564502,0.565933,0.568115,0.569848,0.573425,0.576138,0.578448,0.580429,0.582036,0.58518,0.588102,0.590268,0.624119,0.626225,0.627818,0.630967,0.63368,0.635683,0.637968,0.639881,0.690578,0.705522,0.710685,0.716888,0.719301,0.724759,0.726114,0.728637,0.731632,0.73522,0.736155,0.73816,0.740285,0.741415,0.743377,0.746872,0.784009,0.786414,0.789424,0.791538,0.793418,0.795329,0.797681,0.800333,0.847154,0.85366,0.861212,0.865562,0.868231,0.870361,0.87187,0.8771,0.890132,0.891829,0.893598,0.895992,0.898114,0.900114,0.902849,0.903823,0.94055,0.942844,0.944739,0.947065,0.94939,0.955877,0.958599,0.961729],\"y\":[\"ReadInputStatus\",\"ReadInputStatus\",\"WriteSingleCoil\",\"WriteSingleCoil\",\"WriteSingleCoil\",\"WriteSingleCoil\",\"WriteSingleRegister\",\"WriteSingleRegister\",\"WriteSingleCoil\",\"WriteSingleCoil\",\"WriteSingleCoil\",\"WriteSingleCoil\",\"WriteSingleCoil\",\"ReadInputStatus\",\"ReadInputStatus\",\"ReadInputStatus\",\"WriteSingleCoil\",\"ReadInputStatus\",\"ReadInputStatus\",\"ReadInputStatus\",\"WriteSingleCoil\",\"ReadInputStatus\",\"ReadInputStatus\",\"ReadInputStatus\",\"WriteSingleCoil\",\"ReadInputStatus\",\"ReadInputStatus\",\"ReadInputStatus\",\"WriteSingleCoil\",\"ReadInputStatus\",\"ReadInputStatus\",\"ReadInputStatus\",\"WriteSingleCoil\",\"ReadInputStatus\",\"ReadInputStatus\",\"ReadInputStatus\",\"WriteSingleCoil\",\"ReadInputStatus\",\"ReadInputStatus\",\"ReadInputStatus\",\"WriteSingleCoil\",\"ReadInputStatus\",\"ReadInputStatus\",\"ReadInputStatus\",\"WriteSingleCoil\",\"ReadInputStatus\",\"ReadInputStatus\",\"ReadInputStatus\",\"WriteSingleCoil\",\"ReadInputStatus\",\"ReadInputStatus\",\"ReadInputStatus\",\"WriteSingleCoil\",\"ReadInputStatus\",\"ReadInputStatus\",\"ReadInputStatus\",\"WriteSingleCoil\",\"ReadInputStatus\",\"ReadInputStatus\",\"ReadInputStatus\",\"WriteSingleCoil\",\"ReadInputStatus\",\"ReadInputStatus\",\"ReadInputStatus\",\"WriteSingleCoil\",\"ReadInputStatus\",\"ReadInputStatus\",\"ReadInputStatus\",\"WriteSingleCoil\",\"ReadInputStatus\",\"ReadInputStatus\",\"ReadInputStatus\",\"WriteSingleCoil\",\"ReadInputStatus\",\"ReadInputStatus\",\"ReadInputStatus\",\"WriteSingleCoil\"],\"mode\":\"markers\",\"name\":\"function sequence\"}];\n            var layout = {\"title\":\"Function Timeline\",\"xaxis\":{\"title\":\"Time\",\"_isSubplotObj\":true}};\n            Plotly.newPlot('3bfe1b96-6ac6-4f67-b234-e21fb8771d5a', data, layout);\n        \r\n});\r\n};\r\n// ensure `require` is available globally\r\nif ((typeof(require) !==  typeof(Function)) || (typeof(require.config) !== typeof(Function))) {\r\n    let require_script = document.createElement('script');\r\n    require_script.setAttribute('src', 'https://cdnjs.cloudflare.com/ajax/libs/require.js/2.3.6/require.min.js');\r\n    require_script.setAttribute('type', 'text/javascript');\r\n    \r\n    \r\n    require_script.onload = function() {\r\n        renderPlotly();\r\n    };\r\n\r\n    document.getElementsByTagName('head')[0].appendChild(require_script);\r\n}\r\nelse {\r\n    renderPlotly();\r\n}\r\n\r\n</script>\r\n"
          },
          "execution_count": 1,
          "metadata": {}
        }
      ]
    }
  ],
  "metadata": {
    "kernelspec": {
      "display_name": ".NET (C#)",
      "language": "C#",
      "name": ".net-csharp"
    },
    "language_info": {
      "file_extension": ".cs",
      "mimetype": "text/x-csharp",
      "name": "C#",
      "pygments_lexer": "csharp",
      "version": "8.0"
    }
  },
  "nbformat": 4,
  "nbformat_minor": 4
}