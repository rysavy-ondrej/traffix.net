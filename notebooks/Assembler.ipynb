{
 "cells": [
  {
   "cell_type": "markdown",
   "metadata": {},
   "source": [
    "# Initialize the environment\n",
    "\n",
    "* Loaded necessary system-wide packages"
   ]
  },
  {
   "cell_type": "code",
   "execution_count": 1,
   "metadata": {},
   "source": [
    "// basic docs for C# interactive is at: https://github.com/dotnet/interactive/tree/main/docs \n",
    "// Use XPlot for visualization, see doc at: https://fslab.org/XPlot/\n",
    "// For several examples of data analysis methods see: https://xamlbrewer.wordpress.com/category/ml-net/\n",
    "#r \"nuget:XPlot.Plotly\"\n",
    "#r \"nuget:Microsoft.ML\"\n",
    "#r \"nuget:Microsoft.Data.Analysis,0.4.0\"\n",
    "#r \"nuget:Microsoft.DotNet.Interactive.ExtensionLab,*-*\"\n",
    "using System;\n",
    "using System.Threading;\n",
    "using Microsoft.ML;\n",
    "using Microsoft.ML.Data;\n",
    "using Microsoft.Data;\n",
    "using Microsoft.Data.Analysis; \n",
    "using XPlot.Plotly;\n",
    "\n",
    "/*\n",
    "var dateRef = DateTime.Parse(\"2020/12/01 12:00:00\");\n",
    "var dateSample = DateTime.Parse(\"2020/12/07 12:47:00\");\n",
    "(dateSample-dateRef).TotalSeconds\n",
    "*/"
   ],
   "outputs": [
    {
     "output_type": "execute_result",
     "data": {
      "text/html": "<div class=\"dni-plaintext\">521220</div>"
     },
     "execution_count": 1,
     "metadata": {}
    }
   ]
  },
  {
   "cell_type": "markdown",
   "metadata": {},
   "source": [
    "Load IcsMonitor and process the input file. "
   ]
  },
  {
   "cell_type": "code",
   "execution_count": 1,
   "metadata": {},
   "source": [
    "#r \"C:\\GitHub\\traffix.net\\samples\\IcsMonitor\\bin\\Debug\\netcoreapp3.1\\IcsMonitor.dll\"\n",
    "using IcsMonitor;\n",
    "var ctx = new Interactive();\n",
    "\n",
    "var reader = ctx.CreateCaptureFileReader(@\"G:\\Shared drives\\BONNET\\AD Metody\\Modbus\\ModbusFactory\\Assembler\\Net-Assembler_Basic_Normal.cap\");\n",
    "var frames  = ctx.GetNextFrames(reader).ToList();\n",
    "var firstFrame = frames.First();\n",
    "var timeBaseTicks = firstFrame.Ticks;\n",
    "Console.WriteLine($\"Frames={frames.Count}\");\n",
    "\n",
    "var tables = ctx.PopulateConversationTables(frames, @\"c:\\temp\\assembler_basic_normal.fc\\\", TimeSpan.FromMinutes(1), CancellationToken.None).ToList();\n",
    "Console.WriteLine($\"Tables={tables.Count}\");\n",
    "\n",
    "var processor = new IcsMonitor.Modbus.ModbusBiflowProcessor();\n",
    "var conversations = tables.SelectMany(x=> ctx.GetConversations(x,processor)).ToList();\n",
    "Console.WriteLine($\"Conversations={conversations.Count}\");\n",
    "\n",
    "reader.Close();\n",
    "var dataFrame = conversations.ToDataFrame();\n",
    "#!linqify dataFrame\n",
    ""
   ],
   "outputs": [
    {
     "output_type": "execute_result",
     "data": {
      "text/plain": "Frames=984613\r\n"
     },
     "execution_count": 1,
     "metadata": {}
    },
    {
     "output_type": "execute_result",
     "data": {
      "text/plain": "Tables=30\r\n"
     },
     "execution_count": 1,
     "metadata": {}
    },
    {
     "output_type": "execute_result",
     "data": {
      "text/plain": "Conversations=30\r\n"
     },
     "execution_count": 1,
     "metadata": {}
    }
   ]
  },
  {
   "cell_type": "markdown",
   "metadata": {},
   "source": [
    "## Ratio of operations in the flow\n",
    "The following graph shows the ratio of different operations within the flow. The ratio is computed as the number of the corresponding operations to the total number of packets in the flow.  "
   ]
  },
  {
   "cell_type": "code",
   "execution_count": 1,
   "metadata": {},
   "source": [
    "var writeSingleCoilRequests = conversations.Select(x=>(packets:x.ForwardMetrics.Packets, value: (float)x.Data.WriteSingleCoilRequests/x.ForwardMetrics.Packets));\n",
    "var readDiscreteInputsRequests = conversations.Select(x=>(packets:x.ForwardMetrics.Packets, value: (float)x.Data.ReadDiscreteInputsRequests/x.ForwardMetrics.Packets));\n",
    "\n",
    "var plot = Chart.Plot(new []{ \n",
    "    new Graph.Scatter { x = writeSingleCoilRequests.Select(x=>x.packets), y = writeSingleCoilRequests.Select(x=>x.value), mode = \"markers\", name=\"WriteSingleCoilRequests\" },\n",
    "    new Graph.Scatter { x = readDiscreteInputsRequests.Select(x=>x.packets), y = readDiscreteInputsRequests.Select(x=>x.value), mode = \"markers\", name=\"ReadDiscreteInputsRequests\" }\n",
    "});\n",
    "plot.WithXTitle(\"Packets\");\n",
    "plot.WithYTitle(\"Operation\");\n",
    "plot.WithTitle(\"Operations Ratio Graph\");\n",
    "plot"
   ],
   "outputs": [
    {
     "output_type": "execute_result",
     "data": {
      "text/html": "<div id=\"835bd978-46c9-46fd-acb8-f7135a04d3cd\" style=\"width: 900px; height: 500px;\"></div>\r\n<script type=\"text/javascript\">\r\n\r\nvar renderPlotly = function() {\r\n    var xplotRequire = require.config({context:'xplot-3.0.1',paths:{plotly:'https://cdn.plot.ly/plotly-1.49.2.min'}}) || require;\r\n    xplotRequire(['plotly'], function(Plotly) {\r\n\n            var data = [{\"type\":\"scatter\",\"x\":[22275,22566,22398,22553,22428,21924,21288,21030,21022,21010,21221,21376,21229,21475,21350,21327,21448,21324,22357,22331,22376,22372,22374,22431,22370,22449,22214,22384,22266,21241],\"y\":[0.17481482,0.17428875,0.17416734,0.17447789,0.17433566,0.17478563,0.17455843,0.17384689,0.1750547,0.17415516,0.17463833,0.17421407,0.17400725,0.17494762,0.17395784,0.1748019,0.17437524,0.17426375,0.17484456,0.17415252,0.17478548,0.17436975,0.1748458,0.17431234,0.17398301,0.17492984,0.17385432,0.174589,0.17416689,0.1742385],\"mode\":\"markers\",\"name\":\"WriteSingleCoilRequests\"},{\"type\":\"scatter\",\"x\":[22275,22566,22398,22553,22428,21924,21288,21030,21022,21010,21221,21376,21229,21475,21350,21327,21448,21324,22357,22331,22376,22372,22374,22431,22370,22449,22214,22384,22266,21241],\"y\":[0.3246689,0.3251795,0.3253862,0.32505652,0.3251293,0.32475826,0.32487786,0.3256776,0.3244696,0.3252737,0.324914,0.32522455,0.32549813,0.32461002,0.3254801,0.32470578,0.32506528,0.32526731,0.32473052,0.32528773,0.32476762,0.32509387,0.32470724,0.325175,0.32556996,0.32460243,0.32560548,0.32496426,0.32529417,0.32531425],\"mode\":\"markers\",\"name\":\"ReadDiscreteInputsRequests\"}];\n            var layout = {\"title\":\"Operations Ratio Graph\",\"xaxis\":{\"title\":\"Packets\",\"_isSubplotObj\":true},\"yaxis\":{\"title\":\"Operation\",\"_isSubplotObj\":true}};\n            Plotly.newPlot('835bd978-46c9-46fd-acb8-f7135a04d3cd', data, layout);\n        \r\n});\r\n};\r\n// ensure `require` is available globally\r\nif ((typeof(require) !==  typeof(Function)) || (typeof(require.config) !== typeof(Function))) {\r\n    let require_script = document.createElement('script');\r\n    require_script.setAttribute('src', 'https://cdnjs.cloudflare.com/ajax/libs/require.js/2.3.6/require.min.js');\r\n    require_script.setAttribute('type', 'text/javascript');\r\n    \r\n    \r\n    require_script.onload = function() {\r\n        renderPlotly();\r\n    };\r\n\r\n    document.getElementsByTagName('head')[0].appendChild(require_script);\r\n}\r\nelse {\r\n    renderPlotly();\r\n}\r\n\r\n</script>\r\n"
     },
     "execution_count": 1,
     "metadata": {}
    }
   ]
  },
  {
   "cell_type": "markdown",
   "metadata": {},
   "source": [
    "# Basic Packet-level Stats\n",
    "This section shows various basic statistics of the capture. "
   ]
  },
  {
   "cell_type": "code",
   "execution_count": 1,
   "metadata": {},
   "source": [
    "using Traffix.Providers.PcapFile;\n",
    "using Traffix.Extensions.Decoders.Industrial;\n",
    "var packets = frames.Select(x=> (Time: new TimeSpan(x.Ticks - timeBaseTicks).TotalSeconds, Packet: x.GetTcpPacket())).Where(x=>x.Packet is not null && x.Packet.PayloadData?.Length > 0).ToList();\n",
    "\n",
    "var requests = packets.Where(x=>x.Packet.DestinationPort == 502);\n",
    "var responses = packets.Where(x=>x.Packet.SourcePort == 502);\n",
    "\n",
    "var modbusRequests = requests.Select(x=> (x.Time, Modbus: x.Packet.DecodeOrDefault(stream => new ModbusRequestPacket(stream)))).Where(x=>x.Modbus is not null);\n",
    "var modbusFunctions = modbusRequests.Select(m =>  (Time: m.Time, Code: m.Modbus.Function.ToString()));"
   ],
   "outputs": []
  },
  {
   "cell_type": "markdown",
   "metadata": {},
   "source": [
    "## Function count\n",
    "The following plot provides information on the total number of individual function codes in the capture. "
   ]
  },
  {
   "cell_type": "code",
   "execution_count": 1,
   "metadata": {},
   "source": [
    "var modbusGroupByFunctions = modbusFunctions.GroupBy(x=> x.Code);\n",
    "var plot = Chart.Plot( new []{ \n",
    "        new Graph.Bar { x = modbusGroupByFunctions.Select(x=>x.Key), y = modbusGroupByFunctions.Select(x=>x.Count()), name=\"functions\" }\n",
    "    });\n",
    "plot.WithXTitle(\"Fuctions\");\n",
    "plot.WithYTitle(\"Count\");\n",
    "plot.WithTitle(\"Functions Count\");\n",
    "\n",
    "plot"
   ],
   "outputs": [
    {
     "output_type": "execute_result",
     "data": {
      "text/html": "<div id=\"1fa305fa-3c2b-4835-94a4-7497624f2dfb\" style=\"width: 900px; height: 500px;\"></div>\r\n<script type=\"text/javascript\">\r\n\r\nvar renderPlotly = function() {\r\n    var xplotRequire = require.config({context:'xplot-3.0.1',paths:{plotly:'https://cdn.plot.ly/plotly-1.49.2.min'}}) || require;\r\n    xplotRequire(['plotly'], function(Plotly) {\r\n\n            var data = [{\"type\":\"bar\",\"x\":[\"WriteSingleCoil\",\"WriteSingleRegister\",\"ReadInputStatus\",\"ReadHoldingRegister\"],\"y\":[114495,163,213384,162],\"name\":\"functions\"}];\n            var layout = {\"title\":\"Functions Count\",\"xaxis\":{\"title\":\"Fuctions\",\"_isSubplotObj\":true},\"yaxis\":{\"title\":\"Count\",\"_isSubplotObj\":true}};\n            Plotly.newPlot('1fa305fa-3c2b-4835-94a4-7497624f2dfb', data, layout);\n        \r\n});\r\n};\r\n// ensure `require` is available globally\r\nif ((typeof(require) !==  typeof(Function)) || (typeof(require.config) !== typeof(Function))) {\r\n    let require_script = document.createElement('script');\r\n    require_script.setAttribute('src', 'https://cdnjs.cloudflare.com/ajax/libs/require.js/2.3.6/require.min.js');\r\n    require_script.setAttribute('type', 'text/javascript');\r\n    \r\n    \r\n    require_script.onload = function() {\r\n        renderPlotly();\r\n    };\r\n\r\n    document.getElementsByTagName('head')[0].appendChild(require_script);\r\n}\r\nelse {\r\n    renderPlotly();\r\n}\r\n\r\n</script>\r\n"
     },
     "execution_count": 1,
     "metadata": {}
    }
   ]
  },
  {
   "cell_type": "markdown",
   "metadata": {},
   "source": [
    "# Timeline\n",
    "\n",
    "The present section visualizes the traffic in terms of various timelines. "
   ]
  },
  {
   "cell_type": "markdown",
   "metadata": {},
   "source": [
    "## Message timeline\n",
    "The basic form of timeline shows a number of non-empty TCP packets in both directions. Although the communication follows the regular pattern the timeline communication diagram shows the small variance in the number of packets as caused by system and network load. "
   ]
  },
  {
   "cell_type": "code",
   "execution_count": 1,
   "metadata": {},
   "source": [
    "var requestsAggregation = requests.GroupBy(x=> (int)(x.Time/10));\n",
    "var responsesAggregation = responses.GroupBy(x=> (int)(x.Time/10));\n",
    "var plot = Chart.Plot( new []{ \n",
    "    new Graph.Scatter { x = requestsAggregation.Select(x=>x.Key), y = requestsAggregation.Select(x=>x.Count()), mode = \"line\", name=\"requests\" },\n",
    "    new Graph.Scatter { x = responsesAggregation.Select(x=>x.Key), y = responsesAggregation.Select(x=>x.Count()), mode = \"line\", name=\"responses\" }\n",
    "});\n",
    "plot.WithXTitle(\"Time\");\n",
    "plot.WithTitle(\"Message Timeline\");\n",
    "plot.Width = 1000;\n",
    "plot.Height = 300;\n",
    "\n",
    "plot"
   ],
   "outputs": [
    {
     "output_type": "execute_result",
     "data": {
      "text/html": "<div id=\"18865022-601c-43ac-952f-24da13bded89\" style=\"width: 1000px; height: 300px;\"></div>\r\n<script type=\"text/javascript\">\r\n\r\nvar renderPlotly = function() {\r\n    var xplotRequire = require.config({context:'xplot-3.0.1',paths:{plotly:'https://cdn.plot.ly/plotly-1.49.2.min'}}) || require;\r\n    xplotRequire(['plotly'], function(Plotly) {\r\n\n            var data = [{\"type\":\"scatter\",\"x\":[0,1,2,3,4,5,6,7,8,9,10,11,12,13,14,15,16,17,18,19,20,21,22,23,24,25,26,27,28,29,30,31,32,33,34,35,36,37,38,39,40,41,42,43,44,45,46,47,48,49,50,51,52,53,54,55,56,57,58,59,60,61,62,63,64,65,66,67,68,69,70,71,72,73,74,75,76,77,78,79,80,81,82,83,84,85,86,87,88,89,90,91,92,93,94,95,96,97,98,99,100,101,102,103,104,105,106,107,108,109,110,111,112,113,114,115,116,117,118,119,120,121,122,123,124,125,126,127,128,129,130,131,132,133,134,135,136,137,138,139,140,141,142,143,144,145,146,147,148,149,150,151,152,153,154,155,156,157,158,159,160,161,162,163,164,165,166,167,168,169,170,171,172,173,174,175,176,177,178,179],\"y\":[1850,1873,1830,1815,1887,1882,1846,1862,1871,1907,1891,1906,1877,1822,1889,1893,1879,1839,1881,1883,1888,1902,1897,1825,1874,1882,1874,1821,1883,1880,1896,1889,1878,1816,1716,1767,1805,1766,1754,1761,1784,1774,1769,1732,1724,1784,1763,1743,1768,1745,1735,1767,1762,1734,1723,1774,1758,1735,1756,1759,1765,1785,1786,1712,1763,1800,1770,1768,1765,1794,1795,1796,1757,1746,1793,1779,1754,1785,1756,1791,1812,1812,1794,1773,1748,1799,1813,1756,1773,1786,1809,1786,1797,1766,1728,1777,1792,1751,1773,1795,1803,1810,1806,1756,1746,1806,1779,1769,1828,1833,1890,1893,1890,1845,1832,1890,1860,1850,1856,1877,1884,1882,1869,1839,1834,1880,1884,1842,1853,1856,1874,1877,1892,1851,1872,1806,1883,1883,1843,1857,1871,1884,1876,1885,1899,1832,1849,1892,1883,1830,1853,1846,1874,1894,1890,1867,1807,1861,1882,1832,1866,1859,1882,1881,1890,1864,1828,1847,1872,1885,1851,1818,1862,1845,1873,1896,1884,1882,1798,1288],\"mode\":\"line\",\"name\":\"requests\"},{\"type\":\"scatter\",\"x\":[0,1,2,3,4,5,6,7,8,9,10,11,12,13,14,15,16,17,18,19,20,21,22,23,24,25,26,27,28,29,30,31,32,33,34,35,36,37,38,39,40,41,42,43,44,45,46,47,48,49,50,51,52,53,54,55,56,57,58,59,60,61,62,63,64,65,66,67,68,69,70,71,72,73,74,75,76,77,78,79,80,81,82,83,84,85,86,87,88,89,90,91,92,93,94,95,96,97,98,99,100,101,102,103,104,105,106,107,108,109,110,111,112,113,114,115,116,117,118,119,120,121,122,123,124,125,126,127,128,129,130,131,132,133,134,135,136,137,138,139,140,141,142,143,144,145,146,147,148,149,150,151,152,153,154,155,156,157,158,159,160,161,162,163,164,165,166,167,168,169,170,171,172,173,174,175,176,177,178,179],\"y\":[1849,1874,1829,1816,1886,1882,1847,1861,1872,1907,1891,1905,1878,1821,1890,1893,1879,1839,1881,1882,1889,1902,1897,1825,1874,1882,1873,1822,1883,1880,1896,1889,1878,1816,1715,1768,1804,1766,1754,1762,1784,1774,1769,1732,1724,1783,1764,1743,1768,1745,1734,1768,1762,1734,1722,1775,1758,1734,1756,1760,1765,1785,1785,1712,1764,1800,1770,1768,1765,1793,1796,1795,1757,1746,1794,1778,1754,1786,1756,1790,1813,1812,1794,1772,1749,1799,1813,1755,1773,1786,1809,1786,1798,1765,1728,1778,1791,1751,1774,1795,1802,1811,1806,1756,1746,1806,1779,1769,1827,1834,1890,1893,1889,1846,1832,1889,1861,1850,1856,1877,1884,1882,1869,1838,1835,1880,1883,1843,1853,1855,1875,1877,1892,1851,1872,1806,1882,1884,1842,1858,1871,1883,1877,1885,1899,1832,1849,1891,1883,1830,1853,1847,1874,1894,1889,1868,1806,1862,1882,1831,1867,1859,1881,1882,1890,1864,1828,1847,1872,1884,1851,1818,1862,1846,1872,1897,1884,1882,1797,1288],\"mode\":\"line\",\"name\":\"responses\"}];\n            var layout = {\"title\":\"Message Timeline\",\"xaxis\":{\"title\":\"Time\",\"_isSubplotObj\":true}};\n            Plotly.newPlot('18865022-601c-43ac-952f-24da13bded89', data, layout);\n        \r\n});\r\n};\r\n// ensure `require` is available globally\r\nif ((typeof(require) !==  typeof(Function)) || (typeof(require.config) !== typeof(Function))) {\r\n    let require_script = document.createElement('script');\r\n    require_script.setAttribute('src', 'https://cdnjs.cloudflare.com/ajax/libs/require.js/2.3.6/require.min.js');\r\n    require_script.setAttribute('type', 'text/javascript');\r\n    \r\n    \r\n    require_script.onload = function() {\r\n        renderPlotly();\r\n    };\r\n\r\n    document.getElementsByTagName('head')[0].appendChild(require_script);\r\n}\r\nelse {\r\n    renderPlotly();\r\n}\r\n\r\n</script>\r\n"
     },
     "execution_count": 1,
     "metadata": {}
    }
   ]
  },
  {
   "cell_type": "markdown",
   "metadata": {},
   "source": [
    "## Function code timeline\n",
    "In order to see the pattern of the system, the MODBUS function requests are extracted from packets and shown in the next graph. Four MODBUS functions are observed:\n",
    "\n",
    "* ReadHoldingRegister\n",
    "* ReadInputStatus\n",
    "* WriteSingleRegister\n",
    "* WriteSIngleCoil\n",
    ""
   ]
  },
  {
   "cell_type": "code",
   "execution_count": 1,
   "metadata": {},
   "source": [
    "var functionsPrefix = modbusFunctions.TakeWhile(x=>x.Time<1);\n",
    "\n",
    "var g = new Graph.Scatter { x = functionsPrefix.Select(x=>x.Time), y = functionsPrefix.Select(x=>x.Code), mode = \"markers\", name=\"function sequence\" };\n",
    "var plot = Chart.Plot( new []{ g });\n",
    "plot.WithXTitle(\"Time\");\n",
    "plot.WithTitle(\"Function Timeline\");\n",
    "plot.Width = 1000;\n",
    "plot.Height = 300;\n",
    "\n",
    "plot\n",
    ""
   ],
   "outputs": [
    {
     "output_type": "execute_result",
     "data": {
      "text/html": "<div id=\"4348f4d5-26f2-425b-852c-0b617a6f950f\" style=\"width: 1000px; height: 300px;\"></div>\r\n<script type=\"text/javascript\">\r\n\r\nvar renderPlotly = function() {\r\n    var xplotRequire = require.config({context:'xplot-3.0.1',paths:{plotly:'https://cdn.plot.ly/plotly-1.49.2.min'}}) || require;\r\n    xplotRequire(['plotly'], function(Plotly) {\r\n\n            var data = [{\"type\":\"scatter\",\"x\":[0.012705,0.016105,0.017825,0.020032,0.022148,0.023948,0.025033,0.026713,0.029944,0.033852,0.034889,0.037335,0.039269,0.041523,0.043092,0.044668,0.047197,0.050268,0.083692,0.086309,0.090243,0.093496,0.096054,0.099073,0.100964,0.104475,0.10632,0.136486,0.139065,0.141231,0.145421,0.14804,0.149113,0.150954,0.153211,0.155392,0.188488,0.191403,0.195964,0.197953,0.24836,0.25672,0.263308,0.267173,0.269117,0.271267,0.275443,0.278029,0.279879,0.281872,0.283222,0.284868,0.287373,0.290134,0.322263,0.324806,0.327094,0.328843,0.330578,0.332308,0.334647,0.336336,0.337573,0.380486,0.381254,0.383541,0.385337,0.387555,0.389358,0.391197,0.395517,0.402279,0.428955,0.429984,0.434317,0.436179,0.441934,0.445051,0.447479,0.449094,0.450971,0.479619,0.48083,0.482961,0.485266,0.48692,0.48863,0.490698,0.491505,0.493365,0.537961,0.540597,0.54365,0.546605,0.548461,0.551867,0.553493,0.556245,0.557492,0.592661,0.594664,0.596646,0.598152,0.6001,0.602491,0.604157,0.606341,0.612119,0.648029,0.649042,0.650886,0.702119,0.70486,0.706954,0.716085,0.71706,0.719181,0.72091,0.723087,0.725037,0.726907,0.72894,0.732585,0.734735,0.735832,0.73782,0.772931,0.774791,0.778105,0.779901,0.781791,0.783448,0.784752,0.786798,0.78846,0.830397,0.832091,0.834507,0.836341,0.838584,0.844665,0.846465,0.848368,0.850167,0.881251,0.883424,0.888307,0.889274,0.8909,0.892625,0.895469,0.897328,0.900232,0.95168,0.95505,0.962224,0.964057,0.966244,0.967901,0.970046,0.972123,0.973906,0.987882,0.989777,0.991833,0.993118,0.998803],\"y\":[\"WriteSingleCoil\",\"WriteSingleCoil\",\"WriteSingleCoil\",\"WriteSingleCoil\",\"WriteSingleCoil\",\"WriteSingleCoil\",\"WriteSingleCoil\",\"WriteSingleCoil\",\"WriteSingleRegister\",\"ReadInputStatus\",\"ReadInputStatus\",\"ReadInputStatus\",\"ReadInputStatus\",\"WriteSingleCoil\",\"ReadInputStatus\",\"ReadInputStatus\",\"WriteSingleCoil\",\"WriteSingleCoil\",\"ReadInputStatus\",\"ReadInputStatus\",\"ReadInputStatus\",\"ReadInputStatus\",\"WriteSingleCoil\",\"ReadInputStatus\",\"ReadInputStatus\",\"WriteSingleCoil\",\"WriteSingleCoil\",\"ReadInputStatus\",\"ReadInputStatus\",\"ReadInputStatus\",\"ReadInputStatus\",\"WriteSingleCoil\",\"ReadInputStatus\",\"ReadInputStatus\",\"WriteSingleCoil\",\"WriteSingleCoil\",\"ReadInputStatus\",\"ReadInputStatus\",\"ReadInputStatus\",\"ReadInputStatus\",\"WriteSingleCoil\",\"ReadInputStatus\",\"ReadInputStatus\",\"WriteSingleCoil\",\"WriteSingleCoil\",\"ReadInputStatus\",\"ReadInputStatus\",\"ReadInputStatus\",\"ReadInputStatus\",\"WriteSingleCoil\",\"ReadInputStatus\",\"ReadInputStatus\",\"WriteSingleCoil\",\"WriteSingleCoil\",\"ReadInputStatus\",\"ReadInputStatus\",\"ReadInputStatus\",\"ReadInputStatus\",\"WriteSingleCoil\",\"ReadInputStatus\",\"ReadInputStatus\",\"WriteSingleCoil\",\"WriteSingleCoil\",\"ReadInputStatus\",\"ReadInputStatus\",\"ReadInputStatus\",\"ReadInputStatus\",\"WriteSingleCoil\",\"ReadInputStatus\",\"ReadInputStatus\",\"WriteSingleCoil\",\"WriteSingleCoil\",\"ReadInputStatus\",\"ReadInputStatus\",\"ReadInputStatus\",\"ReadInputStatus\",\"WriteSingleCoil\",\"ReadInputStatus\",\"ReadInputStatus\",\"WriteSingleCoil\",\"WriteSingleCoil\",\"ReadInputStatus\",\"ReadInputStatus\",\"ReadInputStatus\",\"ReadInputStatus\",\"WriteSingleCoil\",\"ReadInputStatus\",\"ReadInputStatus\",\"WriteSingleCoil\",\"WriteSingleCoil\",\"ReadInputStatus\",\"ReadInputStatus\",\"ReadInputStatus\",\"ReadInputStatus\",\"WriteSingleCoil\",\"ReadInputStatus\",\"ReadInputStatus\",\"WriteSingleCoil\",\"WriteSingleCoil\",\"ReadInputStatus\",\"ReadInputStatus\",\"ReadInputStatus\",\"ReadInputStatus\",\"WriteSingleCoil\",\"ReadInputStatus\",\"ReadInputStatus\",\"WriteSingleCoil\",\"WriteSingleCoil\",\"ReadInputStatus\",\"ReadInputStatus\",\"ReadInputStatus\",\"ReadInputStatus\",\"WriteSingleCoil\",\"ReadInputStatus\",\"ReadInputStatus\",\"WriteSingleCoil\",\"WriteSingleCoil\",\"ReadInputStatus\",\"ReadInputStatus\",\"ReadInputStatus\",\"ReadInputStatus\",\"WriteSingleCoil\",\"ReadInputStatus\",\"ReadInputStatus\",\"WriteSingleCoil\",\"WriteSingleCoil\",\"ReadInputStatus\",\"ReadInputStatus\",\"ReadInputStatus\",\"ReadInputStatus\",\"WriteSingleCoil\",\"ReadInputStatus\",\"ReadInputStatus\",\"WriteSingleCoil\",\"WriteSingleCoil\",\"ReadInputStatus\",\"ReadInputStatus\",\"ReadInputStatus\",\"ReadInputStatus\",\"WriteSingleCoil\",\"ReadInputStatus\",\"ReadInputStatus\",\"WriteSingleCoil\",\"WriteSingleCoil\",\"ReadInputStatus\",\"ReadInputStatus\",\"ReadInputStatus\",\"ReadInputStatus\",\"WriteSingleCoil\",\"ReadInputStatus\",\"ReadInputStatus\",\"WriteSingleCoil\",\"WriteSingleCoil\",\"ReadInputStatus\",\"ReadInputStatus\",\"ReadInputStatus\",\"ReadInputStatus\",\"WriteSingleCoil\",\"ReadInputStatus\",\"ReadInputStatus\",\"WriteSingleCoil\",\"WriteSingleCoil\",\"ReadInputStatus\",\"ReadInputStatus\",\"ReadInputStatus\",\"ReadInputStatus\",\"WriteSingleCoil\"],\"mode\":\"markers\",\"name\":\"function sequence\"}];\n            var layout = {\"title\":\"Function Timeline\",\"xaxis\":{\"title\":\"Time\",\"_isSubplotObj\":true}};\n            Plotly.newPlot('4348f4d5-26f2-425b-852c-0b617a6f950f', data, layout);\n        \r\n});\r\n};\r\n// ensure `require` is available globally\r\nif ((typeof(require) !==  typeof(Function)) || (typeof(require.config) !== typeof(Function))) {\r\n    let require_script = document.createElement('script');\r\n    require_script.setAttribute('src', 'https://cdnjs.cloudflare.com/ajax/libs/require.js/2.3.6/require.min.js');\r\n    require_script.setAttribute('type', 'text/javascript');\r\n    \r\n    \r\n    require_script.onload = function() {\r\n        renderPlotly();\r\n    };\r\n\r\n    document.getElementsByTagName('head')[0].appendChild(require_script);\r\n}\r\nelse {\r\n    renderPlotly();\r\n}\r\n\r\n</script>\r\n"
     },
     "execution_count": 1,
     "metadata": {}
    }
   ]
  }
 ],
 "metadata": {
  "kernelspec": {
   "display_name": ".NET (C#)",
   "language": "C#",
   "name": ".net-csharp"
  },
  "language_info": {
   "file_extension": ".cs",
   "mimetype": "text/x-csharp",
   "name": "C#",
   "pygments_lexer": "csharp",
   "version": "8.0"
  }
 },
 "nbformat": 4,
 "nbformat_minor": 4
}