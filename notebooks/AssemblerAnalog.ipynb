{
 "cells": [
  {
   "cell_type": "markdown",
   "metadata": {},
   "source": [
    "# Initialize the environment\n",
    "\n",
    "* Loaded necessary system-wide packages"
   ]
  },
  {
   "cell_type": "code",
   "execution_count": 1,
   "metadata": {},
   "source": [
    "// basic docs for C# interactive is at: https://github.com/dotnet/interactive/tree/main/docs \n",
    "// Use XPlot for visualization, see doc at: https://fslab.org/XPlot/\n",
    "// For several examples of data analysis methods see: https://xamlbrewer.wordpress.com/category/ml-net/\n",
    "#r \"nuget:XPlot.Plotly\"\n",
    "#r \"nuget:Microsoft.ML\"\n",
    "#r \"nuget:Microsoft.Data.Analysis,0.4.0\"\n",
    "#r \"nuget:Microsoft.DotNet.Interactive.ExtensionLab,*-*\"\n",
    "using System;\n",
    "using System.Threading;\n",
    "using Microsoft.ML;\n",
    "using Microsoft.ML.Data;\n",
    "using Microsoft.Data;\n",
    "using Microsoft.Data.Analysis; \n",
    "using XPlot.Plotly;\n",
    "\n",
    "/*\n",
    "var dateRef = DateTime.Parse(\"2020/12/01 12:00:00\");\n",
    "var dateSample = DateTime.Parse(\"2020/12/07 12:47:00\");\n",
    "(dateSample-dateRef).TotalSeconds\n",
    "*/"
   ],
   "outputs": [
    {
     "output_type": "execute_result",
     "data": {
      "text/plain": "Installed package Microsoft.DotNet.Interactive.ExtensionLab version 1.0.0-beta.20604.1"
     },
     "execution_count": 1,
     "metadata": {}
    },
    {
     "output_type": "execute_result",
     "data": {
      "text/plain": "Installed package XPlot.Plotly version 3.0.1"
     },
     "execution_count": 1,
     "metadata": {}
    },
    {
     "output_type": "execute_result",
     "data": {
      "text/plain": "Installed package Microsoft.Data.Analysis version 0.4.0"
     },
     "execution_count": 1,
     "metadata": {}
    },
    {
     "output_type": "execute_result",
     "data": {
      "text/plain": "Installed package Microsoft.ML version 1.5.2"
     },
     "execution_count": 1,
     "metadata": {}
    },
    {
     "output_type": "execute_result",
     "data": {
      "text/plain": "Loaded Microsoft.DotNet.Interactive.ExtensionLab.DataFrameKernelExtension"
     },
     "execution_count": 1,
     "metadata": {}
    },
    {
     "output_type": "execute_result",
     "data": {
      "text/markdown": "Added the `#!linqify` magic command."
     },
     "execution_count": 1,
     "metadata": {}
    },
    {
     "output_type": "execute_result",
     "data": {
      "text/plain": "Loaded Microsoft.DotNet.Interactive.ExtensionLab.InspectExtension"
     },
     "execution_count": 1,
     "metadata": {}
    },
    {
     "output_type": "execute_result",
     "data": {
      "text/plain": "Loaded Microsoft.DotNet.Interactive.ExtensionLab.NteractKernelExtension"
     },
     "execution_count": 1,
     "metadata": {}
    },
    {
     "output_type": "execute_result",
     "data": {
      "text/markdown": "Added the `Explore` extension method, which you can use with `IEnumerable<T>` and `IDataView` to view data using the [nteract Data Explorer](https://github.com/nteract/data-explorer)."
     },
     "execution_count": 1,
     "metadata": {}
    },
    {
     "output_type": "execute_result",
     "data": {
      "text/plain": "Loaded Microsoft.DotNet.Interactive.ExtensionLab.RecordTranscriptExtension"
     },
     "execution_count": 1,
     "metadata": {}
    },
    {
     "output_type": "execute_result",
     "data": {
      "text/plain": "Loaded Microsoft.DotNet.Interactive.ExtensionLab.SqlKernelsExtension"
     },
     "execution_count": 1,
     "metadata": {}
    },
    {
     "output_type": "execute_result",
     "data": {
      "text/markdown": "\r\nAdded `mssql` and `sqlite` to the connection types available using the [`#!connect`](https://github.com/dotnet/interactive/blob/main/docs/connect.md) magic command."
     },
     "execution_count": 1,
     "metadata": {}
    }
   ]
  },
  {
   "cell_type": "markdown",
   "metadata": {},
   "source": [
    "Load IcsMonitor and process the input file. "
   ]
  },
  {
   "cell_type": "code",
   "execution_count": 1,
   "metadata": {},
   "source": [
    "#r \"C:\\GitHub\\traffix.net\\samples\\IcsMonitor\\bin\\Debug\\netcoreapp3.1\\IcsMonitor.dll\"\n",
    "using IcsMonitor;\n",
    "var ctx = new Interactive();\n",
    "\n",
    "var reader = ctx.CreateCaptureFileReader(@\"G:\\Shared drives\\BONNET\\AD Metody\\Modbus\\ModbusFactory\\Assembler Analog\\Net-AssemblerAnalog_Basic_Normal.cap\");\n",
    "var frames  = ctx.GetNextFrames(reader).ToList();\n",
    "var firstFrame = frames.First();\n",
    "var timeBaseTicks = firstFrame.Ticks;\n",
    "Console.WriteLine($\"Frames={frames.Count}\");\n",
    "\n",
    "var tables = ctx.PopulateConversationTables(frames, @\"c:\\temp\\assembler_basic_normal.fc\\\", TimeSpan.FromMinutes(1), CancellationToken.None).ToList();\n",
    "Console.WriteLine($\"Tables={tables.Count}\");\n",
    "\n",
    "var processor = new IcsMonitor.Modbus.ModbusBiflowProcessor();\n",
    "var conversations = tables.SelectMany(x=> ctx.GetConversations(x,processor)).ToList();\n",
    "Console.WriteLine($\"Conversations={conversations.Count}\");\n",
    "\n",
    "reader.Close();\n",
    "var dataFrame = conversations.ToDataFrame();\n",
    "#!linqify dataFrame\n",
    ""
   ],
   "outputs": [
    {
     "output_type": "execute_result",
     "data": {
      "text/plain": "Frames=729883\r\n"
     },
     "execution_count": 1,
     "metadata": {}
    },
    {
     "output_type": "execute_result",
     "data": {
      "text/plain": "Tables=30\r\n"
     },
     "execution_count": 1,
     "metadata": {}
    },
    {
     "output_type": "execute_result",
     "data": {
      "text/plain": "Conversations=30\r\n"
     },
     "execution_count": 1,
     "metadata": {}
    }
   ]
  },
  {
   "cell_type": "markdown",
   "metadata": {},
   "source": [
    "## Ratio of operations in the flow\n",
    "The following graph shows the ratio of different operations within the flow. The ratio is computed as the number of the corresponding operations to the total number of packets in the flow.  "
   ]
  },
  {
   "cell_type": "code",
   "execution_count": 1,
   "metadata": {},
   "source": [
    "var writeSingleCoilRequests = conversations.Select(x=>(packets:x.ForwardMetrics.Packets, value: (float)x.Data.WriteSingleCoilRequests/x.ForwardMetrics.Packets));\n",
    "var readDiscreteInputsRequests = conversations.Select(x=>(packets:x.ForwardMetrics.Packets, value: (float)x.Data.ReadDiscreteInputsRequests/x.ForwardMetrics.Packets));\n",
    "\n",
    "var plot = Chart.Plot(new []{ \n",
    "    new Graph.Scatter { x = writeSingleCoilRequests.Select(x=>x.packets), y = writeSingleCoilRequests.Select(x=>x.value), mode = \"markers\", name=\"WriteSingleCoilRequests\" },\n",
    "    new Graph.Scatter { x = readDiscreteInputsRequests.Select(x=>x.packets), y = readDiscreteInputsRequests.Select(x=>x.value), mode = \"markers\", name=\"ReadDiscreteInputsRequests\" }\n",
    "});\n",
    "plot.WithXTitle(\"Packets\");\n",
    "plot.WithYTitle(\"Operation\");\n",
    "plot.WithTitle(\"Operations Ratio Graph\");\n",
    "plot"
   ],
   "outputs": [
    {
     "output_type": "execute_result",
     "data": {
      "text/html": "<div id=\"d1a0b8aa-8d2b-4b2f-95fb-977158da55d6\" style=\"width: 900px; height: 500px;\"></div>\r\n<script type=\"text/javascript\">\r\n\r\nvar renderPlotly = function() {\r\n    var xplotRequire = require.config({context:'xplot-3.0.1',paths:{plotly:'https://cdn.plot.ly/plotly-1.49.2.min'}}) || require;\r\n    xplotRequire(['plotly'], function(Plotly) {\r\n\n            var data = [{\"type\":\"scatter\",\"x\":[16616,16882,16967,17022,17016,16976,16366,15975,16103,16033,16074,16014,16047,16060,16029,16050,16015,16049,16086,16032,16098,16048,16017,16081,16080,16058,15989,16031,16018,15756],\"y\":[0.18235436,0.1818505,0.18141097,0.18176478,0.18159379,0.1813148,0.18116827,0.18172143,0.18158107,0.18199962,0.18165982,0.18234046,0.18233939,0.18181819,0.18210743,0.18218069,0.18189198,0.18163125,0.1813378,0.18157434,0.18188594,0.18164258,0.1813698,0.18151857,0.18159205,0.18177855,0.1812496,0.1812114,0.18042202,0.18120082],\"mode\":\"markers\",\"name\":\"WriteSingleCoilRequests\"},{\"type\":\"scatter\",\"x\":[16616,16882,16967,17022,17016,16976,16366,15975,16103,16033,16074,16014,16047,16060,16029,16050,16015,16049,16086,16032,16098,16048,16017,16081,16080,16058,15989,16031,16018,15756],\"y\":[0.20564516,0.20613672,0.20640066,0.205675,0.2061589,0.2068214,0.20652573,0.20644757,0.20592436,0.20619972,0.20598482,0.20594479,0.20601982,0.20585304,0.20581447,0.20598131,0.20599438,0.20568259,0.20583116,0.20521457,0.20555349,0.20557079,0.20596866,0.20601952,0.20597015,0.20587869,0.20614173,0.20597592,0.20676738,0.20703225],\"mode\":\"markers\",\"name\":\"ReadDiscreteInputsRequests\"}];\n            var layout = {\"title\":\"Operations Ratio Graph\",\"xaxis\":{\"title\":\"Packets\",\"_isSubplotObj\":true},\"yaxis\":{\"title\":\"Operation\",\"_isSubplotObj\":true}};\n            Plotly.newPlot('d1a0b8aa-8d2b-4b2f-95fb-977158da55d6', data, layout);\n        \r\n});\r\n};\r\n// ensure `require` is available globally\r\nif ((typeof(require) !==  typeof(Function)) || (typeof(require.config) !== typeof(Function))) {\r\n    let require_script = document.createElement('script');\r\n    require_script.setAttribute('src', 'https://cdnjs.cloudflare.com/ajax/libs/require.js/2.3.6/require.min.js');\r\n    require_script.setAttribute('type', 'text/javascript');\r\n    \r\n    \r\n    require_script.onload = function() {\r\n        renderPlotly();\r\n    };\r\n\r\n    document.getElementsByTagName('head')[0].appendChild(require_script);\r\n}\r\nelse {\r\n    renderPlotly();\r\n}\r\n\r\n</script>\r\n"
     },
     "execution_count": 1,
     "metadata": {}
    }
   ]
  },
  {
   "cell_type": "markdown",
   "metadata": {},
   "source": [
    "# Basic Packet-level Stats\n",
    "This section shows various basic statistics of the capture. "
   ]
  },
  {
   "cell_type": "code",
   "execution_count": 1,
   "metadata": {},
   "source": [
    "using Traffix.Providers.PcapFile;\n",
    "using Traffix.Extensions.Decoders.Industrial;\n",
    "var packets = frames.Select(x=> (Time: new TimeSpan(x.Ticks - timeBaseTicks).TotalSeconds, Packet: x.GetTcpPacket())).Where(x=>x.Packet is not null && x.Packet.PayloadData?.Length > 0).ToList();\n",
    "\n",
    "var requests = packets.Where(x=>x.Packet.DestinationPort == 502);\n",
    "var responses = packets.Where(x=>x.Packet.SourcePort == 502);\n",
    "\n",
    "var modbusRequests = requests.Select(x=> (x.Time, Modbus: x.Packet.DecodeOrDefault(stream => new ModbusRequestPacket(stream)))).Where(x=>x.Modbus is not null);\n",
    "var modbusFunctions = modbusRequests.Select(m =>  (Time: m.Time, Code: m.Modbus.Function.ToString()));"
   ],
   "outputs": []
  },
  {
   "cell_type": "markdown",
   "metadata": {},
   "source": [
    "## Function count\n",
    "The following plot provides information on the total number of individual function codes in the capture. "
   ]
  },
  {
   "cell_type": "code",
   "execution_count": 1,
   "metadata": {},
   "source": [
    "var modbusGroupByFunctions = modbusFunctions.GroupBy(x=> x.Code);\n",
    "var plot = Chart.Plot( new []{ \n",
    "        new Graph.Bar { x = modbusGroupByFunctions.Select(x=>x.Key), y = modbusGroupByFunctions.Select(x=>x.Count()), name=\"functions\" }\n",
    "    });\n",
    "plot.WithXTitle(\"Fuctions\");\n",
    "plot.WithYTitle(\"Count\");\n",
    "plot.WithTitle(\"Functions Count\");\n",
    "\n",
    "plot"
   ],
   "outputs": [
    {
     "output_type": "execute_result",
     "data": {
      "text/html": "<div id=\"6463b1f0-6ccd-44b1-98a6-832e315cfd67\" style=\"width: 900px; height: 500px;\"></div>\r\n<script type=\"text/javascript\">\r\n\r\nvar renderPlotly = function() {\r\n    var xplotRequire = require.config({context:'xplot-3.0.1',paths:{plotly:'https://cdn.plot.ly/plotly-1.49.2.min'}}) || require;\r\n    xplotRequire(['plotly'], function(Plotly) {\r\n\n            var data = [{\"type\":\"bar\",\"x\":[\"WriteSingleCoil\",\"WriteSingleRegister\",\"ReadInputStatus\",\"ReadInputRegisters\",\"ReadHoldingRegister\"],\"y\":[88389,39610,100256,14799,239],\"name\":\"functions\"}];\n            var layout = {\"title\":\"Functions Count\",\"xaxis\":{\"title\":\"Fuctions\",\"_isSubplotObj\":true},\"yaxis\":{\"title\":\"Count\",\"_isSubplotObj\":true}};\n            Plotly.newPlot('6463b1f0-6ccd-44b1-98a6-832e315cfd67', data, layout);\n        \r\n});\r\n};\r\n// ensure `require` is available globally\r\nif ((typeof(require) !==  typeof(Function)) || (typeof(require.config) !== typeof(Function))) {\r\n    let require_script = document.createElement('script');\r\n    require_script.setAttribute('src', 'https://cdnjs.cloudflare.com/ajax/libs/require.js/2.3.6/require.min.js');\r\n    require_script.setAttribute('type', 'text/javascript');\r\n    \r\n    \r\n    require_script.onload = function() {\r\n        renderPlotly();\r\n    };\r\n\r\n    document.getElementsByTagName('head')[0].appendChild(require_script);\r\n}\r\nelse {\r\n    renderPlotly();\r\n}\r\n\r\n</script>\r\n"
     },
     "execution_count": 1,
     "metadata": {}
    }
   ]
  },
  {
   "cell_type": "markdown",
   "metadata": {},
   "source": [
    "# Timeline\n",
    "\n",
    "The present section visualizes the traffic in terms of various timelines. "
   ]
  },
  {
   "cell_type": "markdown",
   "metadata": {},
   "source": [
    "## Message timeline\n",
    "The basic form of timeline shows a number of non-empty TCP packets in both directions. Although the communication follows the regular pattern the timeline communication diagram shows the small variance in the number of packets as caused by system and network load. "
   ]
  },
  {
   "cell_type": "code",
   "execution_count": 1,
   "metadata": {},
   "source": [
    "var requestsAggregation = requests.GroupBy(x=> (int)(x.Time/10));\n",
    "var responsesAggregation = responses.GroupBy(x=> (int)(x.Time/10));\n",
    "var plot = Chart.Plot( new []{ \n",
    "    new Graph.Scatter { x = requestsAggregation.Select(x=>x.Key), y = requestsAggregation.Select(x=>x.Count()), mode = \"line\", name=\"requests\" },\n",
    "    new Graph.Scatter { x = responsesAggregation.Select(x=>x.Key), y = responsesAggregation.Select(x=>x.Count()), mode = \"line\", name=\"responses\" }\n",
    "});\n",
    "plot.WithXTitle(\"Time\");\n",
    "plot.WithTitle(\"Message Timeline\");\n",
    "plot.Width = 1000;\n",
    "plot.Height = 300;\n",
    "\n",
    "plot"
   ],
   "outputs": [
    {
     "output_type": "execute_result",
     "data": {
      "text/html": "<div id=\"3c87cb08-786d-4566-bb0e-878ef0702a92\" style=\"width: 1000px; height: 300px;\"></div>\r\n<script type=\"text/javascript\">\r\n\r\nvar renderPlotly = function() {\r\n    var xplotRequire = require.config({context:'xplot-3.0.1',paths:{plotly:'https://cdn.plot.ly/plotly-1.49.2.min'}}) || require;\r\n    xplotRequire(['plotly'], function(Plotly) {\r\n\n            var data = [{\"type\":\"scatter\",\"x\":[0,1,2,3,4,5,6,7,8,9,10,11,12,13,14,15,16,17,18,19,20,21,22,23,24,25,26,27,28,29,30,31,32,33,34,35,36,37,38,39,40,41,42,43,44,45,46,47,48,49,50,51,52,53,54,55,56,57,58,59,60,61,62,63,64,65,66,67,68,69,70,71,72,73,74,75,76,77,78,79,80,81,82,83,84,85,86,87,88,89,90,91,92,93,94,95,96,97,98,99,100,101,102,103,104,105,106,107,108,109,110,111,112,113,114,115,116,117,118,119,120,121,122,123,124,125,126,127,128,129,130,131,132,133,134,135,136,137,138,139,140,141,142,143,144,145,146,147,148,149,150,151,152,153,154,155,156,157,158,159,160,161,162,163,164,165,166,167,168,169,170,171,172,173,174,175,176,177,178,179],\"y\":[1319,1335,1447,1435,1327,1444,1421,1329,1452,1434,1343,1462,1439,1348,1452,1443,1351,1451,1442,1355,1455,1441,1356,1462,1428,1358,1466,1431,1355,1470,1430,1349,1454,1448,1350,1457,1444,1351,1381,1383,1274,1350,1381,1271,1337,1399,1282,1317,1427,1280,1314,1423,1295,1313,1414,1288,1298,1420,1308,1288,1409,1320,1270,1419,1336,1283,1397,1333,1272,1395,1335,1275,1399,1336,1273,1372,1368,1276,1366,1374,1274,1374,1366,1276,1366,1363,1275,1375,1367,1268,1363,1371,1281,1345,1380,1285,1352,1391,1273,1341,1398,1253,1323,1406,1286,1312,1416,1281,1307,1415,1295,1302,1427,1297,1283,1414,1317,1269,1397,1336,1270,1395,1358,1282,1389,1355,1278,1365,1360,1278,1363,1380,1263,1354,1382,1275,1340,1395,1280,1346,1400,1278,1338,1398,1276,1347,1404,1284,1330,1399,1280,1314,1426,1289,1297,1423,1293,1280,1417,1305,1279,1421,1301,1277,1427,1319,1279,1412,1339,1291,1386,1342,1278,1373,1352,1263,1364,1358,1271,1270],\"mode\":\"line\",\"name\":\"requests\"},{\"type\":\"scatter\",\"x\":[0,1,2,3,4,5,6,7,8,9,10,11,12,13,14,15,16,17,18,19,20,21,22,23,24,25,26,27,28,29,30,31,32,33,34,35,36,37,38,39,40,41,42,43,44,45,46,47,48,49,50,51,52,53,54,55,56,57,58,59,60,61,62,63,64,65,66,67,68,69,70,71,72,73,74,75,76,77,78,79,80,81,82,83,84,85,86,87,88,89,90,91,92,93,94,95,96,97,98,99,100,101,102,103,104,105,106,107,108,109,110,111,112,113,114,115,116,117,118,119,120,121,122,123,124,125,126,127,128,129,130,131,132,133,134,135,136,137,138,139,140,141,142,143,144,145,146,147,148,149,150,151,152,153,154,155,156,157,158,159,160,161,162,163,164,165,166,167,168,169,170,171,172,173,174,175,176,177,178,179],\"y\":[1319,1335,1447,1435,1327,1444,1421,1328,1453,1434,1343,1462,1439,1348,1451,1444,1350,1452,1441,1356,1454,1442,1356,1461,1429,1357,1467,1431,1355,1470,1429,1349,1455,1448,1350,1456,1445,1351,1380,1384,1274,1350,1381,1271,1337,1399,1282,1317,1427,1280,1314,1423,1295,1313,1414,1288,1298,1420,1307,1289,1409,1319,1271,1419,1336,1283,1396,1334,1272,1395,1335,1275,1399,1336,1273,1371,1369,1276,1365,1375,1274,1373,1367,1276,1366,1363,1275,1375,1367,1268,1363,1370,1282,1345,1380,1285,1352,1391,1273,1341,1398,1252,1323,1407,1286,1311,1417,1281,1307,1415,1295,1302,1427,1297,1283,1414,1317,1269,1397,1336,1270,1395,1358,1282,1388,1356,1277,1366,1360,1278,1363,1380,1263,1354,1382,1275,1340,1394,1280,1347,1400,1278,1337,1399,1276,1347,1404,1284,1330,1399,1280,1314,1426,1288,1297,1424,1293,1280,1417,1305,1279,1421,1301,1277,1426,1320,1279,1412,1339,1291,1386,1342,1278,1373,1351,1264,1364,1358,1271,1270],\"mode\":\"line\",\"name\":\"responses\"}];\n            var layout = {\"title\":\"Message Timeline\",\"xaxis\":{\"title\":\"Time\",\"_isSubplotObj\":true}};\n            Plotly.newPlot('3c87cb08-786d-4566-bb0e-878ef0702a92', data, layout);\n        \r\n});\r\n};\r\n// ensure `require` is available globally\r\nif ((typeof(require) !==  typeof(Function)) || (typeof(require.config) !== typeof(Function))) {\r\n    let require_script = document.createElement('script');\r\n    require_script.setAttribute('src', 'https://cdnjs.cloudflare.com/ajax/libs/require.js/2.3.6/require.min.js');\r\n    require_script.setAttribute('type', 'text/javascript');\r\n    \r\n    \r\n    require_script.onload = function() {\r\n        renderPlotly();\r\n    };\r\n\r\n    document.getElementsByTagName('head')[0].appendChild(require_script);\r\n}\r\nelse {\r\n    renderPlotly();\r\n}\r\n\r\n</script>\r\n"
     },
     "execution_count": 1,
     "metadata": {}
    }
   ]
  },
  {
   "cell_type": "markdown",
   "metadata": {},
   "source": [
    "## Function code timeline\n",
    "In order to see the pattern of the system, the MODBUS function requests are extracted from packets and shown in the next graph. Four MODBUS functions are observed:\n",
    "\n",
    "* ReadHoldingRegister\n",
    "* ReadInputStatus\n",
    "* WriteSingleRegister\n",
    "* WriteSIngleCoil\n",
    ""
   ]
  },
  {
   "cell_type": "code",
   "execution_count": 1,
   "metadata": {},
   "source": [
    "var functionsPrefix = modbusFunctions.TakeWhile(x=>x.Time<1);\n",
    "\n",
    "var g = new Graph.Scatter { x = functionsPrefix.Select(x=>x.Time), y = functionsPrefix.Select(x=>x.Code), mode = \"markers\", name=\"function sequence\" };\n",
    "var plot = Chart.Plot( new []{ g });\n",
    "plot.WithXTitle(\"Time\");\n",
    "plot.WithTitle(\"Function Timeline\");\n",
    "plot.Width = 1000;\n",
    "plot.Height = 300;\n",
    "\n",
    "plot\n",
    ""
   ],
   "outputs": [
    {
     "output_type": "execute_result",
     "data": {
      "text/html": "<div id=\"be47a155-0181-4a7d-a0e7-a392281e9939\" style=\"width: 1000px; height: 300px;\"></div>\r\n<script type=\"text/javascript\">\r\n\r\nvar renderPlotly = function() {\r\n    var xplotRequire = require.config({context:'xplot-3.0.1',paths:{plotly:'https://cdn.plot.ly/plotly-1.49.2.min'}}) || require;\r\n    xplotRequire(['plotly'], function(Plotly) {\r\n\n            var data = [{\"type\":\"scatter\",\"x\":[0.006535,0.010172,0.012718,0.013907,0.026755,0.029745,0.033488,0.037971,0.039566,0.041578,0.04578,0.047707,0.049819,0.05285,0.055659,0.05757,0.06017,0.061309,0.06222,0.104549,0.106798,0.108181,0.109305,0.111447,0.113266,0.115431,0.117287,0.119207,0.149947,0.151255,0.155695,0.157171,0.158312,0.16379,0.166326,0.167453,0.169147,0.202992,0.205025,0.206908,0.215931,0.217352,0.221176,0.223378,0.225451,0.227299,0.257941,0.260776,0.262429,0.264244,0.265245,0.267931,0.269444,0.271495,0.273335,0.311438,0.31895,0.321766,0.323997,0.325849,0.327198,0.329127,0.330096,0.331061,0.366077,0.368382,0.370142,0.371396,0.373961,0.375372,0.377261,0.378187,0.379227,0.417724,0.42015,0.42282,0.424147,0.426349,0.427236,0.429381,0.432553,0.434725,0.471791,0.475744,0.478972,0.480814,0.482915,0.492499,0.494181,0.495302,0.497264,0.524256,0.526924,0.528175,0.530173,0.5322,0.534227,0.537232,0.538939,0.541362,0.57812,0.587133,0.588244,0.590456,0.592322,0.594977,0.603269,0.60436,0.606372,0.633469,0.636916,0.649363,0.666068,0.670079,0.67354,0.676071,0.67884,0.695133,0.6972,0.700352,0.702586,0.703827,0.705574,0.710759,0.718174,0.719167,0.721629,0.751188,0.754008,0.758792,0.772394,0.774125,0.775137,0.778355,0.783353,0.790149,0.802068,0.803289,0.805587,0.81069,0.813352,0.814898,0.817319,0.818632,0.820643,0.863107,0.864562,0.866333,0.869265,0.870168,0.882393,0.888942,0.892376,0.895056,0.908666,0.909958,0.912446,0.914083,0.915445,0.917976,0.920182,0.926172,0.929458,0.962852,0.964973,0.96814,0.971596,0.972717,0.974777,0.975816,0.977702,0.980062],\"y\":[\"WriteSingleCoil\",\"WriteSingleCoil\",\"WriteSingleCoil\",\"WriteSingleCoil\",\"WriteSingleCoil\",\"WriteSingleCoil\",\"WriteSingleRegister\",\"WriteSingleRegister\",\"WriteSingleCoil\",\"WriteSingleRegister\",\"ReadInputStatus\",\"WriteSingleCoil\",\"WriteSingleCoil\",\"WriteSingleRegister\",\"ReadInputStatus\",\"ReadInputStatus\",\"WriteSingleCoil\",\"WriteSingleCoil\",\"WriteSingleCoil\",\"ReadInputStatus\",\"WriteSingleCoil\",\"WriteSingleCoil\",\"WriteSingleRegister\",\"ReadInputStatus\",\"ReadInputStatus\",\"WriteSingleCoil\",\"WriteSingleCoil\",\"WriteSingleCoil\",\"ReadInputStatus\",\"WriteSingleCoil\",\"WriteSingleCoil\",\"WriteSingleRegister\",\"ReadInputStatus\",\"ReadInputStatus\",\"WriteSingleCoil\",\"WriteSingleCoil\",\"WriteSingleCoil\",\"ReadInputStatus\",\"WriteSingleCoil\",\"WriteSingleCoil\",\"WriteSingleRegister\",\"ReadInputStatus\",\"ReadInputStatus\",\"WriteSingleCoil\",\"WriteSingleCoil\",\"WriteSingleCoil\",\"ReadInputStatus\",\"WriteSingleCoil\",\"WriteSingleCoil\",\"WriteSingleRegister\",\"ReadInputStatus\",\"ReadInputStatus\",\"WriteSingleCoil\",\"WriteSingleCoil\",\"WriteSingleCoil\",\"ReadInputStatus\",\"WriteSingleCoil\",\"WriteSingleCoil\",\"WriteSingleRegister\",\"ReadInputStatus\",\"ReadInputStatus\",\"WriteSingleCoil\",\"WriteSingleCoil\",\"WriteSingleCoil\",\"ReadInputStatus\",\"WriteSingleCoil\",\"WriteSingleCoil\",\"WriteSingleRegister\",\"ReadInputStatus\",\"ReadInputStatus\",\"WriteSingleCoil\",\"WriteSingleCoil\",\"WriteSingleCoil\",\"ReadInputStatus\",\"WriteSingleCoil\",\"WriteSingleCoil\",\"WriteSingleRegister\",\"ReadInputStatus\",\"ReadInputStatus\",\"WriteSingleCoil\",\"WriteSingleCoil\",\"WriteSingleCoil\",\"ReadInputStatus\",\"WriteSingleCoil\",\"WriteSingleCoil\",\"WriteSingleRegister\",\"ReadInputStatus\",\"ReadInputStatus\",\"WriteSingleCoil\",\"WriteSingleCoil\",\"WriteSingleCoil\",\"ReadInputStatus\",\"WriteSingleCoil\",\"WriteSingleCoil\",\"WriteSingleRegister\",\"ReadInputStatus\",\"ReadInputStatus\",\"WriteSingleCoil\",\"WriteSingleCoil\",\"WriteSingleCoil\",\"ReadInputStatus\",\"WriteSingleCoil\",\"WriteSingleCoil\",\"WriteSingleRegister\",\"ReadInputStatus\",\"ReadInputStatus\",\"WriteSingleCoil\",\"WriteSingleCoil\",\"WriteSingleCoil\",\"ReadInputStatus\",\"WriteSingleCoil\",\"WriteSingleCoil\",\"WriteSingleRegister\",\"ReadInputStatus\",\"ReadInputStatus\",\"WriteSingleCoil\",\"WriteSingleCoil\",\"WriteSingleCoil\",\"ReadInputStatus\",\"WriteSingleCoil\",\"WriteSingleCoil\",\"WriteSingleRegister\",\"ReadInputStatus\",\"ReadInputStatus\",\"WriteSingleCoil\",\"WriteSingleCoil\",\"WriteSingleCoil\",\"ReadInputStatus\",\"WriteSingleCoil\",\"WriteSingleCoil\",\"WriteSingleRegister\",\"ReadInputStatus\",\"ReadInputStatus\",\"WriteSingleCoil\",\"WriteSingleCoil\",\"WriteSingleCoil\",\"ReadInputStatus\",\"WriteSingleCoil\",\"WriteSingleCoil\",\"WriteSingleRegister\",\"ReadInputStatus\",\"ReadInputStatus\",\"WriteSingleCoil\",\"WriteSingleCoil\",\"WriteSingleCoil\",\"ReadInputStatus\",\"WriteSingleCoil\",\"WriteSingleCoil\",\"WriteSingleRegister\",\"ReadInputStatus\",\"ReadInputStatus\",\"WriteSingleCoil\",\"WriteSingleCoil\",\"WriteSingleCoil\",\"ReadInputStatus\",\"WriteSingleCoil\",\"WriteSingleCoil\",\"WriteSingleRegister\",\"ReadInputStatus\",\"ReadInputStatus\",\"WriteSingleCoil\",\"WriteSingleCoil\",\"WriteSingleCoil\",\"ReadInputStatus\",\"WriteSingleCoil\",\"WriteSingleCoil\",\"WriteSingleRegister\",\"ReadInputStatus\",\"ReadInputStatus\",\"WriteSingleCoil\",\"WriteSingleCoil\",\"WriteSingleCoil\"],\"mode\":\"markers\",\"name\":\"function sequence\"}];\n            var layout = {\"title\":\"Function Timeline\",\"xaxis\":{\"title\":\"Time\",\"_isSubplotObj\":true}};\n            Plotly.newPlot('be47a155-0181-4a7d-a0e7-a392281e9939', data, layout);\n        \r\n});\r\n};\r\n// ensure `require` is available globally\r\nif ((typeof(require) !==  typeof(Function)) || (typeof(require.config) !== typeof(Function))) {\r\n    let require_script = document.createElement('script');\r\n    require_script.setAttribute('src', 'https://cdnjs.cloudflare.com/ajax/libs/require.js/2.3.6/require.min.js');\r\n    require_script.setAttribute('type', 'text/javascript');\r\n    \r\n    \r\n    require_script.onload = function() {\r\n        renderPlotly();\r\n    };\r\n\r\n    document.getElementsByTagName('head')[0].appendChild(require_script);\r\n}\r\nelse {\r\n    renderPlotly();\r\n}\r\n\r\n</script>\r\n"
     },
     "execution_count": 1,
     "metadata": {}
    }
   ]
  }
 ],
 "metadata": {
  "kernelspec": {
   "display_name": ".NET (C#)",
   "language": "C#",
   "name": ".net-csharp"
  },
  "language_info": {
   "file_extension": ".cs",
   "mimetype": "text/x-csharp",
   "name": "C#",
   "pygments_lexer": "csharp",
   "version": "8.0"
  }
 },
 "nbformat": 4,
 "nbformat_minor": 4
}