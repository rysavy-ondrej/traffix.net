{
 "cells": [
  {
   "cell_type": "markdown",
   "metadata": {},
   "source": [
    "# Setup the environment"
   ]
  },
  {
   "cell_type": "code",
   "execution_count": 1,
   "metadata": {},
   "source": [
    "// basic docs for C# interactiv is at: https://github.com/dotnet/interactive/tree/main/docs \n",
    "// Use XPlot for visualization, see doc at: https://fslab.org/XPlot/\n",
    "// For several examples of data analysis methods see: https://xamlbrewer.wordpress.com/category/ml-net/\n",
    "#r \"nuget:XPlot.Plotly\"\n",
    "#r \"nuget:Microsoft.ML\"\n",
    "#r \"nuget:Microsoft.Data.Analysis,0.4.0\"\n",
    "#r \"nuget:Microsoft.DotNet.Interactive.ExtensionLab,*-*\"\n",
    "\n",
    "using System;\n",
    "using System.Threading;\n",
    "\n",
    "using Microsoft.ML;\n",
    "using Microsoft.ML.Data;\n",
    "using Microsoft.Data;\n",
    "using Microsoft.Data.Analysis; \n",
    "using XPlot.Plotly;"
   ],
   "outputs": [
    {
     "output_type": "execute_result",
     "data": {
      "text/plain": "Installed package Microsoft.DotNet.Interactive.ExtensionLab version 1.0.0-beta.20561.1"
     },
     "execution_count": 1,
     "metadata": {}
    },
    {
     "output_type": "execute_result",
     "data": {
      "text/plain": "Installed package XPlot.Plotly version 3.0.1"
     },
     "execution_count": 1,
     "metadata": {}
    },
    {
     "output_type": "execute_result",
     "data": {
      "text/plain": "Installed package Microsoft.Data.Analysis version 0.4.0"
     },
     "execution_count": 1,
     "metadata": {}
    },
    {
     "output_type": "execute_result",
     "data": {
      "text/plain": "Installed package Microsoft.ML version 1.5.2"
     },
     "execution_count": 1,
     "metadata": {}
    },
    {
     "output_type": "execute_result",
     "data": {
      "text/plain": "Loaded Microsoft.DotNet.Interactive.ExtensionLab.DataFrameKernelExtension"
     },
     "execution_count": 1,
     "metadata": {}
    },
    {
     "output_type": "execute_result",
     "data": {
      "text/markdown": "Added the `#!linqify` magic command."
     },
     "execution_count": 1,
     "metadata": {}
    },
    {
     "output_type": "execute_result",
     "data": {
      "text/plain": "Loaded Microsoft.DotNet.Interactive.ExtensionLab.InspectExtension"
     },
     "execution_count": 1,
     "metadata": {}
    },
    {
     "output_type": "execute_result",
     "data": {
      "text/plain": "Loaded Microsoft.DotNet.Interactive.ExtensionLab.NteractKernelExtension"
     },
     "execution_count": 1,
     "metadata": {}
    },
    {
     "output_type": "execute_result",
     "data": {
      "text/markdown": "Added the `Explore` extension method, which you can use with `IEnumerable<T>` and `IDataView` to view data using the [nteract Data Explorer](https://github.com/nteract/data-explorer)."
     },
     "execution_count": 1,
     "metadata": {}
    },
    {
     "output_type": "execute_result",
     "data": {
      "text/plain": "Loaded Microsoft.DotNet.Interactive.ExtensionLab.RecordTranscriptExtension"
     },
     "execution_count": 1,
     "metadata": {}
    },
    {
     "output_type": "execute_result",
     "data": {
      "text/plain": "Loaded Microsoft.DotNet.Interactive.ExtensionLab.SqlKernelsExtension"
     },
     "execution_count": 1,
     "metadata": {}
    },
    {
     "output_type": "execute_result",
     "data": {
      "text/markdown": "\r\nAdded `mssql` and `sqlite` to the connection types available using the [`#!connect`](https://github.com/dotnet/interactive/blob/main/docs/connect.md) magic command."
     },
     "execution_count": 1,
     "metadata": {}
    }
   ]
  },
  {
   "cell_type": "markdown",
   "metadata": {},
   "source": [
    "# Load Data"
   ]
  },
  {
   "cell_type": "code",
   "execution_count": 1,
   "metadata": {},
   "source": [
    "#r \"C:\\GitHub\\traffix.net\\samples\\IcsMonitor\\bin\\Debug\\netcoreapp3.1\\IcsMonitor.dll\"\n",
    "using IcsMonitor;\n",
    "\n",
    "var ctx = new Interactive();\n",
    "var table = ctx.ReadToConversationTable(@\"d:\\Captures\\modbus\\modbus.pcap\",@\"c:\\temp\\\", CancellationToken.None);\n",
    "var keys = table.ConversationKeys.Take(10).ToList();\n",
    "var processor = new IcsMonitor.Modbus.ModbusBiflowProcessor();\n",
    "var conv = ctx.GetConversations(table, processor).ToList();\n",
    ""
   ],
   "outputs": []
  },
  {
   "cell_type": "code",
   "execution_count": 1,
   "metadata": {},
   "source": [
    "var dataFrame = conv.ToDataFrame();\n",
    ""
   ],
   "outputs": []
  },
  {
   "cell_type": "code",
   "execution_count": 1,
   "metadata": {},
   "source": [
    "\n",
    "\n",
    "#!linqify dataFrame"
   ],
   "outputs": []
  },
  {
   "cell_type": "code",
   "execution_count": 1,
   "metadata": {},
   "source": [
    "dataFrame"
   ],
   "outputs": [
    {
     "output_type": "execute_result",
     "data": {
      "text/html": "<table><thead><tr><th><i>index</i></th><th>Label_Class</th><th>Label_Score</th><th>Key_ProtocolType</th><th>Key_SourceIpAddress</th><th>Key_SourcePort</th><th>Key_DestinationIpAddress</th><th>Key_DestinationPort</th><th>ForwardMetrics_Start</th><th>ForwardMetrics_End</th><th>ForwardMetrics_Packets</th><th>ForwardMetrics_Octets</th><th>ReverseMetrics_Start</th><th>ReverseMetrics_End</th><th>ReverseMetrics_Packets</th><th>ReverseMetrics_Octets</th><th>Data_UnitId</th><th>Data_ReadCoilsRequests</th><th>Data_ReadCoilsBits</th><th>Data_ReadDiscreteInputsRequests</th><th>Data_ReadDiscreteInputsBits</th><th>..</th></tr></thead><tbody><tr><td>0</td><td><div class=\"dni-plaintext\">&lt;null&gt;</div></td><td><div class=\"dni-plaintext\">0</div></td><td><div class=\"dni-plaintext\">Tcp</div></td><td><div class=\"dni-plaintext\">10.0.0.57</div></td><td><div class=\"dni-plaintext\">2387</div></td><td><div class=\"dni-plaintext\">10.0.0.3</div></td><td><div class=\"dni-plaintext\">502</div></td><td><span>2004-08-26 12:01:18Z</span></td><td><span>2004-08-26 12:01:18Z</span></td><td><div class=\"dni-plaintext\">2</div></td><td><div class=\"dni-plaintext\">120</div></td><td><span>2004-08-26 12:01:18Z</span></td><td><span>2004-08-26 12:01:18Z</span></td><td><div class=\"dni-plaintext\">2</div></td><td><div class=\"dni-plaintext\">120</div></td><td><div class=\"dni-plaintext\">0</div></td><td><div class=\"dni-plaintext\">0</div></td><td><div class=\"dni-plaintext\">0</div></td><td><div class=\"dni-plaintext\">0</div></td><td><div class=\"dni-plaintext\">0</div></td></tr><tr><td>1</td><td><div class=\"dni-plaintext\">&lt;null&gt;</div></td><td><div class=\"dni-plaintext\">0</div></td><td><div class=\"dni-plaintext\">Tcp</div></td><td><div class=\"dni-plaintext\">10.0.0.57</div></td><td><div class=\"dni-plaintext\">2578</div></td><td><div class=\"dni-plaintext\">10.0.0.3</div></td><td><div class=\"dni-plaintext\">502</div></td><td><span>2004-08-26 12:01:21Z</span></td><td><span>2004-08-26 12:07:47Z</span></td><td><div class=\"dni-plaintext\">20</div></td><td><div class=\"dni-plaintext\">1254</div></td><td><span>2004-08-26 12:01:21Z</span></td><td><span>2004-08-26 12:07:47Z</span></td><td><div class=\"dni-plaintext\">12</div></td><td><div class=\"dni-plaintext\">800</div></td><td><div class=\"dni-plaintext\">0</div></td><td><div class=\"dni-plaintext\">0</div></td><td><div class=\"dni-plaintext\">0</div></td><td><div class=\"dni-plaintext\">0</div></td><td><div class=\"dni-plaintext\">0</div></td></tr><tr><td>2</td><td><div class=\"dni-plaintext\">&lt;null&gt;</div></td><td><div class=\"dni-plaintext\">0</div></td><td><div class=\"dni-plaintext\">Tcp</div></td><td><div class=\"dni-plaintext\">10.0.0.57</div></td><td><div class=\"dni-plaintext\">2579</div></td><td><div class=\"dni-plaintext\">10.0.0.8</div></td><td><div class=\"dni-plaintext\">502</div></td><td><span>2004-08-26 12:05:53Z</span></td><td><span>2004-08-26 12:06:16Z</span></td><td><div class=\"dni-plaintext\">6</div></td><td><div class=\"dni-plaintext\">374</div></td><td><span>2004-08-26 12:05:53Z</span></td><td><span>2004-08-26 12:06:16Z</span></td><td><div class=\"dni-plaintext\">5</div></td><td><div class=\"dni-plaintext\">302</div></td><td><div class=\"dni-plaintext\">0</div></td><td><div class=\"dni-plaintext\">0</div></td><td><div class=\"dni-plaintext\">0</div></td><td><div class=\"dni-plaintext\">0</div></td><td><div class=\"dni-plaintext\">0</div></td></tr><tr><td>3</td><td><div class=\"dni-plaintext\">&lt;null&gt;</div></td><td><div class=\"dni-plaintext\">0</div></td><td><div class=\"dni-plaintext\">Tcp</div></td><td><div class=\"dni-plaintext\">10.0.0.9</div></td><td><div class=\"dni-plaintext\">3082</div></td><td><div class=\"dni-plaintext\">10.0.0.3</div></td><td><div class=\"dni-plaintext\">502</div></td><td><span>2004-08-26 12:12:06Z</span></td><td><span>2004-08-26 12:15:03Z</span></td><td><div class=\"dni-plaintext\">16</div></td><td><div class=\"dni-plaintext\">998</div></td><td><span>2004-08-26 12:12:06Z</span></td><td><span>2004-08-26 12:15:03Z</span></td><td><div class=\"dni-plaintext\">9</div></td><td><div class=\"dni-plaintext\">575</div></td><td><div class=\"dni-plaintext\">0</div></td><td><div class=\"dni-plaintext\">2</div></td><td><div class=\"dni-plaintext\">3</div></td><td><div class=\"dni-plaintext\">0</div></td><td><div class=\"dni-plaintext\">0</div></td></tr><tr><td>4</td><td><div class=\"dni-plaintext\">&lt;null&gt;</div></td><td><div class=\"dni-plaintext\">0</div></td><td><div class=\"dni-plaintext\">Tcp</div></td><td><div class=\"dni-plaintext\">10.0.0.57</div></td><td><div class=\"dni-plaintext\">2585</div></td><td><div class=\"dni-plaintext\">10.0.0.8</div></td><td><div class=\"dni-plaintext\">502</div></td><td><span>2004-08-26 12:22:26Z</span></td><td><span>2004-08-26 12:23:43Z</span></td><td><div class=\"dni-plaintext\">8</div></td><td><div class=\"dni-plaintext\">1384</div></td><td><span>2004-08-26 12:22:26Z</span></td><td><span>2004-08-26 12:23:43Z</span></td><td><div class=\"dni-plaintext\">7</div></td><td><div class=\"dni-plaintext\">422</div></td><td><div class=\"dni-plaintext\">0</div></td><td><div class=\"dni-plaintext\">2</div></td><td><div class=\"dni-plaintext\">6</div></td><td><div class=\"dni-plaintext\">0</div></td><td><div class=\"dni-plaintext\">0</div></td></tr><tr><td>5</td><td><div class=\"dni-plaintext\">&lt;null&gt;</div></td><td><div class=\"dni-plaintext\">0</div></td><td><div class=\"dni-plaintext\">Tcp</div></td><td><div class=\"dni-plaintext\">10.0.0.57</div></td><td><div class=\"dni-plaintext\">4446</div></td><td><div class=\"dni-plaintext\">10.0.0.8</div></td><td><div class=\"dni-plaintext\">502</div></td><td><span>2004-08-26 12:24:25Z</span></td><td><span>2004-08-26 12:27:00Z</span></td><td><div class=\"dni-plaintext\">15</div></td><td><div class=\"dni-plaintext\">902</div></td><td><span>2004-08-26 12:24:25Z</span></td><td><span>2004-08-26 12:27:00Z</span></td><td><div class=\"dni-plaintext\">16</div></td><td><div class=\"dni-plaintext\">1018</div></td><td><div class=\"dni-plaintext\">0</div></td><td><div class=\"dni-plaintext\">0</div></td><td><div class=\"dni-plaintext\">0</div></td><td><div class=\"dni-plaintext\">0</div></td><td><div class=\"dni-plaintext\">0</div></td></tr><tr><td>6</td><td><div class=\"dni-plaintext\">&lt;null&gt;</div></td><td><div class=\"dni-plaintext\">0</div></td><td><div class=\"dni-plaintext\">Tcp</div></td><td><div class=\"dni-plaintext\">192.168.66.235</div></td><td><div class=\"dni-plaintext\">2582</div></td><td><div class=\"dni-plaintext\">166.161.16.230</div></td><td><div class=\"dni-plaintext\">502</div></td><td><span>2006-07-21 14:24:39Z</span></td><td><span>2006-07-21 14:26:14Z</span></td><td><div class=\"dni-plaintext\">169</div></td><td><div class=\"dni-plaintext\">10842</div></td><td><span>2006-07-21 14:24:52Z</span></td><td><span>2006-07-21 14:26:14Z</span></td><td><div class=\"dni-plaintext\">181</div></td><td><div class=\"dni-plaintext\">11298</div></td><td><div class=\"dni-plaintext\">0</div></td><td><div class=\"dni-plaintext\">14</div></td><td><div class=\"dni-plaintext\">20</div></td><td><div class=\"dni-plaintext\">1</div></td><td><div class=\"dni-plaintext\">0</div></td></tr><tr><td>7</td><td><div class=\"dni-plaintext\">&lt;null&gt;</div></td><td><div class=\"dni-plaintext\">0</div></td><td><div class=\"dni-plaintext\">Tcp</div></td><td><div class=\"dni-plaintext\">10.1.1.234</div></td><td><div class=\"dni-plaintext\">51411</div></td><td><div class=\"dni-plaintext\">10.10.5.85</div></td><td><div class=\"dni-plaintext\">502</div></td><td><span>2012-07-20 08:54:59Z</span></td><td><span>2012-07-20 09:30:00Z</span></td><td><div class=\"dni-plaintext\">39659</div></td><td><div class=\"dni-plaintext\">2855442</div></td><td><span>2012-07-20 08:54:59Z</span></td><td><span>2012-07-20 09:30:00Z</span></td><td><div class=\"dni-plaintext\">20100</div></td><td><div class=\"dni-plaintext\">5447812</div></td><td><div class=\"dni-plaintext\">0</div></td><td><div class=\"dni-plaintext\">0</div></td><td><div class=\"dni-plaintext\">0</div></td><td><div class=\"dni-plaintext\">0</div></td><td><div class=\"dni-plaintext\">0</div></td></tr></tbody></table>"
     },
     "execution_count": 1,
     "metadata": {}
    }
   ]
  },
  {
   "cell_type": "markdown",
   "metadata": {},
   "source": [
    "# Space-Time diagram for forward and reverse flows"
   ]
  },
  {
   "cell_type": "code",
   "execution_count": 1,
   "metadata": {},
   "source": [
    "var fwdSpaceTime = conv.Select(x=>(duration:x.ForwardMetrics.Duration.TotalSeconds, octets: x.ForwardMetrics.Octets));\n",
    "var revSpaceTime = conv.Select(x=>(duration:x.ReverseMetrics.Duration.TotalSeconds, octets: x.ReverseMetrics.Octets));"
   ],
   "outputs": []
  },
  {
   "cell_type": "code",
   "execution_count": 1,
   "metadata": {},
   "source": [
    "var graphFwd = new Graph.Scatter { x = fwdSpaceTime.Select(x=>x.duration), y = fwdSpaceTime.Select(x=>x.octets), mode = \"markers\" };\n",
    "var graphRev = new Graph.Scatter { x = revSpaceTime.Select(x=>x.duration), y = revSpaceTime.Select(x=>x.octets), mode = \"markers\" };\n",
    "var layout = new Layout.Layout { yaxis = new Graph.Yaxis { type=\"log\" } };\n",
    "var data = new []{ graphFwd, graphRev };\n",
    "\n",
    "var plot = Chart.Plot(data);\n",
    "plot.WithLayout(layout);\n",
    "plot.WithXTitle(\"Duration\");\n",
    "plot.WithYTitle(\"Octets\");\n",
    "plot.WithTitle(\"Duration-Octets Graph\");\n",
    "\n",
    "plot"
   ],
   "outputs": [
    {
     "output_type": "execute_result",
     "data": {
      "text/html": "<div id=\"0ebbbd77-d33a-4179-82e2-36e17d2213f6\" style=\"width: 900px; height: 500px;\"></div>\r\n<script type=\"text/javascript\">\r\n\r\nvar renderPlotly = function() {\r\n    var xplotRequire = require.config({context:'xplot-3.0.1',paths:{plotly:'https://cdn.plot.ly/plotly-1.49.2.min'}}) || require;\r\n    xplotRequire(['plotly'], function(Plotly) {\r\n\n            var data = [{\"type\":\"scatter\",\"x\":[0.000536,385.694948,23.256719,177.095735,76.56188,155.114167,94.480782,2100.811351],\"y\":[120,1254,374,998,1384,902,10842,2855442],\"mode\":\"markers\"},{\"type\":\"scatter\",\"x\":[0.000371,385.694723,23.256425,177.095402,76.561996,155.114442,81.895777,2100.810605],\"y\":[120,800,302,575,422,1018,11298,5447812],\"mode\":\"markers\"}];\n            var layout = {\"title\":\"Duration-Octets Graph\",\"xaxis\":{\"title\":\"Duration\",\"_isSubplotObj\":true},\"yaxis\":{\"title\":\"Octets\",\"type\":\"log\",\"_isSubplotObj\":true}};\n            Plotly.newPlot('0ebbbd77-d33a-4179-82e2-36e17d2213f6', data, layout);\n        \r\n});\r\n};\r\n// ensure `require` is available globally\r\nif ((typeof(require) !==  typeof(Function)) || (typeof(require.config) !== typeof(Function))) {\r\n    let require_script = document.createElement('script');\r\n    require_script.setAttribute('src', 'https://cdnjs.cloudflare.com/ajax/libs/require.js/2.3.6/require.min.js');\r\n    require_script.setAttribute('type', 'text/javascript');\r\n    \r\n    \r\n    require_script.onload = function() {\r\n        renderPlotly();\r\n    };\r\n\r\n    document.getElementsByTagName('head')[0].appendChild(require_script);\r\n}\r\nelse {\r\n    renderPlotly();\r\n}\r\n\r\n</script>\r\n"
     },
     "execution_count": 1,
     "metadata": {}
    }
   ]
  }
 ],
 "metadata": {
  "kernelspec": {
   "display_name": ".NET (C#)",
   "language": "C#",
   "name": ".net-csharp"
  },
  "language_info": {
   "file_extension": ".cs",
   "mimetype": "text/x-csharp",
   "name": "C#",
   "pygments_lexer": "csharp",
   "version": "8.0"
  }
 },
 "nbformat": 4,
 "nbformat_minor": 4
}